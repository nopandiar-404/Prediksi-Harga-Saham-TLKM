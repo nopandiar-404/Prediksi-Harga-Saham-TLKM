{
  "cells": [
    {
      "cell_type": "markdown",
      "source": [
        "**Ujian Praktek_Data Science_Nopandi Ariyanto\n",
        "PREDICT**"
      ],
      "metadata": {
        "id": "CBv2x5U6i11Q"
      }
    },
    {
      "cell_type": "markdown",
      "metadata": {
        "id": "jRFdmVIvyMNm"
      },
      "source": [
        "# **Import Library**\n",
        "Library yang digunakan untuk perhitungan variable, melakukan visualisasi data dan membuat pemodelan deep learning"
      ]
    },
    {
      "cell_type": "code",
      "execution_count": null,
      "metadata": {
        "id": "YIQhp5GYE-XA"
      },
      "outputs": [],
      "source": [
        "import math\n",
        "import numpy as np #library perhitugan variable\n",
        "import pandas as pd             \n",
        "import matplotlib.pyplot as plt  \n",
        "import seaborn as sns #library visualisasi data\n",
        "import plotly.express as px\n",
        "import plotly.graph_objects as go\n",
        "\n",
        "import math\n",
        "from sklearn.metrics import mean_squared_error, mean_absolute_error\n",
        "from sklearn.preprocessing import MinMaxScaler\n",
        "from keras.models import Sequential #library pemodelan deep learning\n",
        "from keras.layers import Dense, LSTM, Dropout, GRU\n",
        "from tensorflow.keras.optimizers import SGD\n",
        "\n",
        "import warnings\n",
        "warnings.filterwarnings('ignore')"
      ]
    },
    {
      "cell_type": "markdown",
      "metadata": {
        "id": "xLZ_BhTVTwZf"
      },
      "source": [
        "# **Data Preparation**\n",
        "Pada bagian ini menyiapkan dataset dari TLKM"
      ]
    },
    {
      "cell_type": "markdown",
      "metadata": {
        "id": "quHP9jaNj2Tu"
      },
      "source": [
        "#Load Dataset"
      ]
    },
    {
      "cell_type": "markdown",
      "metadata": {
        "id": "92tNGIipkXsQ"
      },
      "source": [
        "Menampilkan data set yang digunakan dan melihat data 5 teratas"
      ]
    },
    {
      "cell_type": "code",
      "execution_count": null,
      "metadata": {
        "id": "hUrnAAWeFq5V",
        "colab": {
          "base_uri": "https://localhost:8080/",
          "height": 206
        },
        "outputId": "8869d5f1-41c8-40dd-9df6-2d4bdfa04d17"
      },
      "outputs": [
        {
          "output_type": "execute_result",
          "data": {
            "text/plain": [
              "         Date    Open    High     Low   Close    Adj Close      Volume\n",
              "0  2017-01-02  3980.0  3980.0  3980.0  3980.0  3310.131592         0.0\n",
              "1  2017-01-03  3950.0  3990.0  3920.0  3950.0  3285.180664  71660600.0\n",
              "2  2017-01-04  3880.0  3980.0  3880.0  3950.0  3285.180664  68494500.0\n",
              "3  2017-01-05  3960.0  4030.0  3940.0  3950.0  3285.180664  74018400.0\n",
              "4  2017-01-06  3970.0  4010.0  3960.0  4000.0  3326.765381  44136900.0"
            ],
            "text/html": [
              "\n",
              "  <div id=\"df-adbdc4bc-7b89-4228-9a9f-22edde49a486\">\n",
              "    <div class=\"colab-df-container\">\n",
              "      <div>\n",
              "<style scoped>\n",
              "    .dataframe tbody tr th:only-of-type {\n",
              "        vertical-align: middle;\n",
              "    }\n",
              "\n",
              "    .dataframe tbody tr th {\n",
              "        vertical-align: top;\n",
              "    }\n",
              "\n",
              "    .dataframe thead th {\n",
              "        text-align: right;\n",
              "    }\n",
              "</style>\n",
              "<table border=\"1\" class=\"dataframe\">\n",
              "  <thead>\n",
              "    <tr style=\"text-align: right;\">\n",
              "      <th></th>\n",
              "      <th>Date</th>\n",
              "      <th>Open</th>\n",
              "      <th>High</th>\n",
              "      <th>Low</th>\n",
              "      <th>Close</th>\n",
              "      <th>Adj Close</th>\n",
              "      <th>Volume</th>\n",
              "    </tr>\n",
              "  </thead>\n",
              "  <tbody>\n",
              "    <tr>\n",
              "      <th>0</th>\n",
              "      <td>2017-01-02</td>\n",
              "      <td>3980.0</td>\n",
              "      <td>3980.0</td>\n",
              "      <td>3980.0</td>\n",
              "      <td>3980.0</td>\n",
              "      <td>3310.131592</td>\n",
              "      <td>0.0</td>\n",
              "    </tr>\n",
              "    <tr>\n",
              "      <th>1</th>\n",
              "      <td>2017-01-03</td>\n",
              "      <td>3950.0</td>\n",
              "      <td>3990.0</td>\n",
              "      <td>3920.0</td>\n",
              "      <td>3950.0</td>\n",
              "      <td>3285.180664</td>\n",
              "      <td>71660600.0</td>\n",
              "    </tr>\n",
              "    <tr>\n",
              "      <th>2</th>\n",
              "      <td>2017-01-04</td>\n",
              "      <td>3880.0</td>\n",
              "      <td>3980.0</td>\n",
              "      <td>3880.0</td>\n",
              "      <td>3950.0</td>\n",
              "      <td>3285.180664</td>\n",
              "      <td>68494500.0</td>\n",
              "    </tr>\n",
              "    <tr>\n",
              "      <th>3</th>\n",
              "      <td>2017-01-05</td>\n",
              "      <td>3960.0</td>\n",
              "      <td>4030.0</td>\n",
              "      <td>3940.0</td>\n",
              "      <td>3950.0</td>\n",
              "      <td>3285.180664</td>\n",
              "      <td>74018400.0</td>\n",
              "    </tr>\n",
              "    <tr>\n",
              "      <th>4</th>\n",
              "      <td>2017-01-06</td>\n",
              "      <td>3970.0</td>\n",
              "      <td>4010.0</td>\n",
              "      <td>3960.0</td>\n",
              "      <td>4000.0</td>\n",
              "      <td>3326.765381</td>\n",
              "      <td>44136900.0</td>\n",
              "    </tr>\n",
              "  </tbody>\n",
              "</table>\n",
              "</div>\n",
              "      <button class=\"colab-df-convert\" onclick=\"convertToInteractive('df-adbdc4bc-7b89-4228-9a9f-22edde49a486')\"\n",
              "              title=\"Convert this dataframe to an interactive table.\"\n",
              "              style=\"display:none;\">\n",
              "        \n",
              "  <svg xmlns=\"http://www.w3.org/2000/svg\" height=\"24px\"viewBox=\"0 0 24 24\"\n",
              "       width=\"24px\">\n",
              "    <path d=\"M0 0h24v24H0V0z\" fill=\"none\"/>\n",
              "    <path d=\"M18.56 5.44l.94 2.06.94-2.06 2.06-.94-2.06-.94-.94-2.06-.94 2.06-2.06.94zm-11 1L8.5 8.5l.94-2.06 2.06-.94-2.06-.94L8.5 2.5l-.94 2.06-2.06.94zm10 10l.94 2.06.94-2.06 2.06-.94-2.06-.94-.94-2.06-.94 2.06-2.06.94z\"/><path d=\"M17.41 7.96l-1.37-1.37c-.4-.4-.92-.59-1.43-.59-.52 0-1.04.2-1.43.59L10.3 9.45l-7.72 7.72c-.78.78-.78 2.05 0 2.83L4 21.41c.39.39.9.59 1.41.59.51 0 1.02-.2 1.41-.59l7.78-7.78 2.81-2.81c.8-.78.8-2.07 0-2.86zM5.41 20L4 18.59l7.72-7.72 1.47 1.35L5.41 20z\"/>\n",
              "  </svg>\n",
              "      </button>\n",
              "      \n",
              "  <style>\n",
              "    .colab-df-container {\n",
              "      display:flex;\n",
              "      flex-wrap:wrap;\n",
              "      gap: 12px;\n",
              "    }\n",
              "\n",
              "    .colab-df-convert {\n",
              "      background-color: #E8F0FE;\n",
              "      border: none;\n",
              "      border-radius: 50%;\n",
              "      cursor: pointer;\n",
              "      display: none;\n",
              "      fill: #1967D2;\n",
              "      height: 32px;\n",
              "      padding: 0 0 0 0;\n",
              "      width: 32px;\n",
              "    }\n",
              "\n",
              "    .colab-df-convert:hover {\n",
              "      background-color: #E2EBFA;\n",
              "      box-shadow: 0px 1px 2px rgba(60, 64, 67, 0.3), 0px 1px 3px 1px rgba(60, 64, 67, 0.15);\n",
              "      fill: #174EA6;\n",
              "    }\n",
              "\n",
              "    [theme=dark] .colab-df-convert {\n",
              "      background-color: #3B4455;\n",
              "      fill: #D2E3FC;\n",
              "    }\n",
              "\n",
              "    [theme=dark] .colab-df-convert:hover {\n",
              "      background-color: #434B5C;\n",
              "      box-shadow: 0px 1px 3px 1px rgba(0, 0, 0, 0.15);\n",
              "      filter: drop-shadow(0px 1px 2px rgba(0, 0, 0, 0.3));\n",
              "      fill: #FFFFFF;\n",
              "    }\n",
              "  </style>\n",
              "\n",
              "      <script>\n",
              "        const buttonEl =\n",
              "          document.querySelector('#df-adbdc4bc-7b89-4228-9a9f-22edde49a486 button.colab-df-convert');\n",
              "        buttonEl.style.display =\n",
              "          google.colab.kernel.accessAllowed ? 'block' : 'none';\n",
              "\n",
              "        async function convertToInteractive(key) {\n",
              "          const element = document.querySelector('#df-adbdc4bc-7b89-4228-9a9f-22edde49a486');\n",
              "          const dataTable =\n",
              "            await google.colab.kernel.invokeFunction('convertToInteractive',\n",
              "                                                     [key], {});\n",
              "          if (!dataTable) return;\n",
              "\n",
              "          const docLinkHtml = 'Like what you see? Visit the ' +\n",
              "            '<a target=\"_blank\" href=https://colab.research.google.com/notebooks/data_table.ipynb>data table notebook</a>'\n",
              "            + ' to learn more about interactive tables.';\n",
              "          element.innerHTML = '';\n",
              "          dataTable['output_type'] = 'display_data';\n",
              "          await google.colab.output.renderOutput(dataTable, element);\n",
              "          const docLink = document.createElement('div');\n",
              "          docLink.innerHTML = docLinkHtml;\n",
              "          element.appendChild(docLink);\n",
              "        }\n",
              "      </script>\n",
              "    </div>\n",
              "  </div>\n",
              "  "
            ]
          },
          "metadata": {},
          "execution_count": 2
        }
      ],
      "source": [
        "#Menyiapkan data TLKM\n",
        "data = pd.read_csv('TLKM.JK.csv')\n",
        "\n",
        "data.head()"
      ]
    },
    {
      "cell_type": "markdown",
      "metadata": {
        "id": "gVgJDZNUkumj"
      },
      "source": [
        "Kita bisa melihat jumlah baris dan kolom pada dataset, yaitu terdapa 1422 baris dan 7 kolom"
      ]
    },
    {
      "cell_type": "code",
      "execution_count": null,
      "metadata": {
        "id": "x6cyQQL_kRQA",
        "colab": {
          "base_uri": "https://localhost:8080/"
        },
        "outputId": "a3afe05a-0fe2-4011-b73c-5fd1ce633958"
      },
      "outputs": [
        {
          "output_type": "execute_result",
          "data": {
            "text/plain": [
              "(1422, 7)"
            ]
          },
          "metadata": {},
          "execution_count": 3
        }
      ],
      "source": [
        "data.shape"
      ]
    },
    {
      "cell_type": "markdown",
      "metadata": {
        "id": "PkefcePcaS1a"
      },
      "source": [
        "# **Data Preprocessing**"
      ]
    },
    {
      "cell_type": "markdown",
      "metadata": {
        "id": "TdGUkseIyiFw"
      },
      "source": [
        "Melakukan check pada data, tidak terdapat data yang duplicate pada data set yang kita gunakan ini. "
      ]
    },
    {
      "cell_type": "code",
      "execution_count": null,
      "metadata": {
        "id": "t8-FGgbeOaop",
        "colab": {
          "base_uri": "https://localhost:8080/"
        },
        "outputId": "f6b8e535-c6ee-4d06-ea8b-6c4f4fc0d8c3"
      },
      "outputs": [
        {
          "output_type": "execute_result",
          "data": {
            "text/plain": [
              "0"
            ]
          },
          "metadata": {},
          "execution_count": 4
        }
      ],
      "source": [
        "data.duplicated().sum()"
      ]
    },
    {
      "cell_type": "markdown",
      "metadata": {
        "id": "3kBNp18dyrsH"
      },
      "source": [
        "Data yang kita gunakan masih terdapat mising value"
      ]
    },
    {
      "cell_type": "code",
      "execution_count": null,
      "metadata": {
        "id": "OdRP3XeA0Uq2",
        "colab": {
          "base_uri": "https://localhost:8080/"
        },
        "outputId": "b19515bf-74f9-4035-8060-0808b7fa12b0"
      },
      "outputs": [
        {
          "output_type": "execute_result",
          "data": {
            "text/plain": [
              "Date         0\n",
              "Open         1\n",
              "High         1\n",
              "Low          1\n",
              "Close        1\n",
              "Adj Close    1\n",
              "Volume       1\n",
              "dtype: int64"
            ]
          },
          "metadata": {},
          "execution_count": 5
        }
      ],
      "source": [
        "data.isnull().sum()"
      ]
    },
    {
      "cell_type": "markdown",
      "metadata": {
        "id": "JLb1nKKTyzCP"
      },
      "source": [
        "Kita hilangkan data mising value tersebut dengan melakukan drop pada data yan tidak dikenali"
      ]
    },
    {
      "cell_type": "code",
      "execution_count": null,
      "metadata": {
        "id": "c4Hb2e2Go_lj",
        "colab": {
          "base_uri": "https://localhost:8080/"
        },
        "outputId": "d89efef2-0ffc-4a65-900b-b0a16c3dc2a5"
      },
      "outputs": [
        {
          "output_type": "execute_result",
          "data": {
            "text/plain": [
              "Date         0\n",
              "Open         0\n",
              "High         0\n",
              "Low          0\n",
              "Close        0\n",
              "Adj Close    0\n",
              "Volume       0\n",
              "dtype: int64"
            ]
          },
          "metadata": {},
          "execution_count": 6
        }
      ],
      "source": [
        "data = data.dropna(how='any',axis=0)\n",
        "data.isnull().sum()"
      ]
    },
    {
      "cell_type": "markdown",
      "metadata": {
        "id": "BKcKMOkGzb_f"
      },
      "source": [
        "Menampilkan informasi data di bawah ini terdapat 6 feature, dan hanya Date data yang bertipe objek"
      ]
    },
    {
      "cell_type": "code",
      "execution_count": null,
      "metadata": {
        "id": "W9IKtln_PGss",
        "colab": {
          "base_uri": "https://localhost:8080/"
        },
        "outputId": "a6f05df9-e7ea-48d1-aee8-c1ea0664cfab"
      },
      "outputs": [
        {
          "output_type": "stream",
          "name": "stdout",
          "text": [
            "<class 'pandas.core.frame.DataFrame'>\n",
            "Int64Index: 1421 entries, 0 to 1421\n",
            "Data columns (total 7 columns):\n",
            " #   Column     Non-Null Count  Dtype  \n",
            "---  ------     --------------  -----  \n",
            " 0   Date       1421 non-null   object \n",
            " 1   Open       1421 non-null   float64\n",
            " 2   High       1421 non-null   float64\n",
            " 3   Low        1421 non-null   float64\n",
            " 4   Close      1421 non-null   float64\n",
            " 5   Adj Close  1421 non-null   float64\n",
            " 6   Volume     1421 non-null   float64\n",
            "dtypes: float64(6), object(1)\n",
            "memory usage: 88.8+ KB\n"
          ]
        }
      ],
      "source": [
        "data.info()"
      ]
    },
    {
      "cell_type": "markdown",
      "metadata": {
        "id": "Rfcw1PxJzuZG"
      },
      "source": [
        "Kita lakukan perubahan pada tipe data Data yang sebelunya objek, kita ubah menjadi datetime agar mempermudah pada saat proses mengkategorikan data tersebut"
      ]
    },
    {
      "cell_type": "code",
      "execution_count": null,
      "metadata": {
        "id": "bcMyyg1QGFNm",
        "colab": {
          "base_uri": "https://localhost:8080/"
        },
        "outputId": "cc0a4ad7-309d-4112-bea8-80769d31ce62"
      },
      "outputs": [
        {
          "output_type": "stream",
          "name": "stdout",
          "text": [
            "<class 'pandas.core.frame.DataFrame'>\n",
            "Int64Index: 1421 entries, 0 to 1421\n",
            "Data columns (total 7 columns):\n",
            " #   Column     Non-Null Count  Dtype         \n",
            "---  ------     --------------  -----         \n",
            " 0   Date       1421 non-null   datetime64[ns]\n",
            " 1   Open       1421 non-null   float64       \n",
            " 2   High       1421 non-null   float64       \n",
            " 3   Low        1421 non-null   float64       \n",
            " 4   Close      1421 non-null   float64       \n",
            " 5   Adj Close  1421 non-null   float64       \n",
            " 6   Volume     1421 non-null   float64       \n",
            "dtypes: datetime64[ns](1), float64(6)\n",
            "memory usage: 88.8 KB\n"
          ]
        }
      ],
      "source": [
        "data[\"Date\"] = pd.to_datetime(data[\"Date\"])\n",
        "data.info()"
      ]
    },
    {
      "cell_type": "markdown",
      "source": [
        "Menampikan data setahun terakhir dengan menambahkan value 12 sebagai bulan dan 30 sebagai hari yang akan ditampilkan pada visualisasi data Close ada data 1 tahun terakhir yaitu tahun 2021-2022"
      ],
      "metadata": {
        "id": "BkkZEx8lx_oQ"
      }
    },
    {
      "cell_type": "code",
      "source": [
        "#Membuat data satu tahun terakhir dengan nilai index\n",
        "data = data[-12*30:].reset_index(drop=True)\n",
        "data"
      ],
      "metadata": {
        "colab": {
          "base_uri": "https://localhost:8080/",
          "height": 423
        },
        "id": "GCTH62obReVc",
        "outputId": "92eaf2a5-5c4c-417a-f61b-12e3af5681c7"
      },
      "execution_count": null,
      "outputs": [
        {
          "output_type": "execute_result",
          "data": {
            "text/plain": [
              "          Date    Open    High     Low   Close    Adj Close       Volume\n",
              "0   2021-03-12  3440.0  3480.0  3430.0  3450.0  3168.497070  100195200.0\n",
              "1   2021-03-15  3440.0  3450.0  3380.0  3380.0  3104.208984   50077300.0\n",
              "2   2021-03-16  3400.0  3410.0  3360.0  3360.0  3085.840820   60111200.0\n",
              "3   2021-03-17  3410.0  3430.0  3370.0  3390.0  3113.392822   61701400.0\n",
              "4   2021-03-18  3450.0  3480.0  3430.0  3450.0  3168.497070  101896400.0\n",
              "..         ...     ...     ...     ...     ...          ...          ...\n",
              "355 2022-08-26  4510.0  4540.0  4480.0  4490.0  4490.000000  184317100.0\n",
              "356 2022-08-29  4370.0  4550.0  4360.0  4520.0  4520.000000  101529800.0\n",
              "357 2022-08-30  4580.0  4620.0  4480.0  4480.0  4480.000000  118884300.0\n",
              "358 2022-08-31  4420.0  4600.0  4420.0  4560.0  4560.000000  175300400.0\n",
              "359 2022-09-01  4560.0  4650.0  4530.0  4580.0  4580.000000  120871700.0\n",
              "\n",
              "[360 rows x 7 columns]"
            ],
            "text/html": [
              "\n",
              "  <div id=\"df-2dea3e01-9343-489f-90da-30b7a0f5acda\">\n",
              "    <div class=\"colab-df-container\">\n",
              "      <div>\n",
              "<style scoped>\n",
              "    .dataframe tbody tr th:only-of-type {\n",
              "        vertical-align: middle;\n",
              "    }\n",
              "\n",
              "    .dataframe tbody tr th {\n",
              "        vertical-align: top;\n",
              "    }\n",
              "\n",
              "    .dataframe thead th {\n",
              "        text-align: right;\n",
              "    }\n",
              "</style>\n",
              "<table border=\"1\" class=\"dataframe\">\n",
              "  <thead>\n",
              "    <tr style=\"text-align: right;\">\n",
              "      <th></th>\n",
              "      <th>Date</th>\n",
              "      <th>Open</th>\n",
              "      <th>High</th>\n",
              "      <th>Low</th>\n",
              "      <th>Close</th>\n",
              "      <th>Adj Close</th>\n",
              "      <th>Volume</th>\n",
              "    </tr>\n",
              "  </thead>\n",
              "  <tbody>\n",
              "    <tr>\n",
              "      <th>0</th>\n",
              "      <td>2021-03-12</td>\n",
              "      <td>3440.0</td>\n",
              "      <td>3480.0</td>\n",
              "      <td>3430.0</td>\n",
              "      <td>3450.0</td>\n",
              "      <td>3168.497070</td>\n",
              "      <td>100195200.0</td>\n",
              "    </tr>\n",
              "    <tr>\n",
              "      <th>1</th>\n",
              "      <td>2021-03-15</td>\n",
              "      <td>3440.0</td>\n",
              "      <td>3450.0</td>\n",
              "      <td>3380.0</td>\n",
              "      <td>3380.0</td>\n",
              "      <td>3104.208984</td>\n",
              "      <td>50077300.0</td>\n",
              "    </tr>\n",
              "    <tr>\n",
              "      <th>2</th>\n",
              "      <td>2021-03-16</td>\n",
              "      <td>3400.0</td>\n",
              "      <td>3410.0</td>\n",
              "      <td>3360.0</td>\n",
              "      <td>3360.0</td>\n",
              "      <td>3085.840820</td>\n",
              "      <td>60111200.0</td>\n",
              "    </tr>\n",
              "    <tr>\n",
              "      <th>3</th>\n",
              "      <td>2021-03-17</td>\n",
              "      <td>3410.0</td>\n",
              "      <td>3430.0</td>\n",
              "      <td>3370.0</td>\n",
              "      <td>3390.0</td>\n",
              "      <td>3113.392822</td>\n",
              "      <td>61701400.0</td>\n",
              "    </tr>\n",
              "    <tr>\n",
              "      <th>4</th>\n",
              "      <td>2021-03-18</td>\n",
              "      <td>3450.0</td>\n",
              "      <td>3480.0</td>\n",
              "      <td>3430.0</td>\n",
              "      <td>3450.0</td>\n",
              "      <td>3168.497070</td>\n",
              "      <td>101896400.0</td>\n",
              "    </tr>\n",
              "    <tr>\n",
              "      <th>...</th>\n",
              "      <td>...</td>\n",
              "      <td>...</td>\n",
              "      <td>...</td>\n",
              "      <td>...</td>\n",
              "      <td>...</td>\n",
              "      <td>...</td>\n",
              "      <td>...</td>\n",
              "    </tr>\n",
              "    <tr>\n",
              "      <th>355</th>\n",
              "      <td>2022-08-26</td>\n",
              "      <td>4510.0</td>\n",
              "      <td>4540.0</td>\n",
              "      <td>4480.0</td>\n",
              "      <td>4490.0</td>\n",
              "      <td>4490.000000</td>\n",
              "      <td>184317100.0</td>\n",
              "    </tr>\n",
              "    <tr>\n",
              "      <th>356</th>\n",
              "      <td>2022-08-29</td>\n",
              "      <td>4370.0</td>\n",
              "      <td>4550.0</td>\n",
              "      <td>4360.0</td>\n",
              "      <td>4520.0</td>\n",
              "      <td>4520.000000</td>\n",
              "      <td>101529800.0</td>\n",
              "    </tr>\n",
              "    <tr>\n",
              "      <th>357</th>\n",
              "      <td>2022-08-30</td>\n",
              "      <td>4580.0</td>\n",
              "      <td>4620.0</td>\n",
              "      <td>4480.0</td>\n",
              "      <td>4480.0</td>\n",
              "      <td>4480.000000</td>\n",
              "      <td>118884300.0</td>\n",
              "    </tr>\n",
              "    <tr>\n",
              "      <th>358</th>\n",
              "      <td>2022-08-31</td>\n",
              "      <td>4420.0</td>\n",
              "      <td>4600.0</td>\n",
              "      <td>4420.0</td>\n",
              "      <td>4560.0</td>\n",
              "      <td>4560.000000</td>\n",
              "      <td>175300400.0</td>\n",
              "    </tr>\n",
              "    <tr>\n",
              "      <th>359</th>\n",
              "      <td>2022-09-01</td>\n",
              "      <td>4560.0</td>\n",
              "      <td>4650.0</td>\n",
              "      <td>4530.0</td>\n",
              "      <td>4580.0</td>\n",
              "      <td>4580.000000</td>\n",
              "      <td>120871700.0</td>\n",
              "    </tr>\n",
              "  </tbody>\n",
              "</table>\n",
              "<p>360 rows × 7 columns</p>\n",
              "</div>\n",
              "      <button class=\"colab-df-convert\" onclick=\"convertToInteractive('df-2dea3e01-9343-489f-90da-30b7a0f5acda')\"\n",
              "              title=\"Convert this dataframe to an interactive table.\"\n",
              "              style=\"display:none;\">\n",
              "        \n",
              "  <svg xmlns=\"http://www.w3.org/2000/svg\" height=\"24px\"viewBox=\"0 0 24 24\"\n",
              "       width=\"24px\">\n",
              "    <path d=\"M0 0h24v24H0V0z\" fill=\"none\"/>\n",
              "    <path d=\"M18.56 5.44l.94 2.06.94-2.06 2.06-.94-2.06-.94-.94-2.06-.94 2.06-2.06.94zm-11 1L8.5 8.5l.94-2.06 2.06-.94-2.06-.94L8.5 2.5l-.94 2.06-2.06.94zm10 10l.94 2.06.94-2.06 2.06-.94-2.06-.94-.94-2.06-.94 2.06-2.06.94z\"/><path d=\"M17.41 7.96l-1.37-1.37c-.4-.4-.92-.59-1.43-.59-.52 0-1.04.2-1.43.59L10.3 9.45l-7.72 7.72c-.78.78-.78 2.05 0 2.83L4 21.41c.39.39.9.59 1.41.59.51 0 1.02-.2 1.41-.59l7.78-7.78 2.81-2.81c.8-.78.8-2.07 0-2.86zM5.41 20L4 18.59l7.72-7.72 1.47 1.35L5.41 20z\"/>\n",
              "  </svg>\n",
              "      </button>\n",
              "      \n",
              "  <style>\n",
              "    .colab-df-container {\n",
              "      display:flex;\n",
              "      flex-wrap:wrap;\n",
              "      gap: 12px;\n",
              "    }\n",
              "\n",
              "    .colab-df-convert {\n",
              "      background-color: #E8F0FE;\n",
              "      border: none;\n",
              "      border-radius: 50%;\n",
              "      cursor: pointer;\n",
              "      display: none;\n",
              "      fill: #1967D2;\n",
              "      height: 32px;\n",
              "      padding: 0 0 0 0;\n",
              "      width: 32px;\n",
              "    }\n",
              "\n",
              "    .colab-df-convert:hover {\n",
              "      background-color: #E2EBFA;\n",
              "      box-shadow: 0px 1px 2px rgba(60, 64, 67, 0.3), 0px 1px 3px 1px rgba(60, 64, 67, 0.15);\n",
              "      fill: #174EA6;\n",
              "    }\n",
              "\n",
              "    [theme=dark] .colab-df-convert {\n",
              "      background-color: #3B4455;\n",
              "      fill: #D2E3FC;\n",
              "    }\n",
              "\n",
              "    [theme=dark] .colab-df-convert:hover {\n",
              "      background-color: #434B5C;\n",
              "      box-shadow: 0px 1px 3px 1px rgba(0, 0, 0, 0.15);\n",
              "      filter: drop-shadow(0px 1px 2px rgba(0, 0, 0, 0.3));\n",
              "      fill: #FFFFFF;\n",
              "    }\n",
              "  </style>\n",
              "\n",
              "      <script>\n",
              "        const buttonEl =\n",
              "          document.querySelector('#df-2dea3e01-9343-489f-90da-30b7a0f5acda button.colab-df-convert');\n",
              "        buttonEl.style.display =\n",
              "          google.colab.kernel.accessAllowed ? 'block' : 'none';\n",
              "\n",
              "        async function convertToInteractive(key) {\n",
              "          const element = document.querySelector('#df-2dea3e01-9343-489f-90da-30b7a0f5acda');\n",
              "          const dataTable =\n",
              "            await google.colab.kernel.invokeFunction('convertToInteractive',\n",
              "                                                     [key], {});\n",
              "          if (!dataTable) return;\n",
              "\n",
              "          const docLinkHtml = 'Like what you see? Visit the ' +\n",
              "            '<a target=\"_blank\" href=https://colab.research.google.com/notebooks/data_table.ipynb>data table notebook</a>'\n",
              "            + ' to learn more about interactive tables.';\n",
              "          element.innerHTML = '';\n",
              "          dataTable['output_type'] = 'display_data';\n",
              "          await google.colab.output.renderOutput(dataTable, element);\n",
              "          const docLink = document.createElement('div');\n",
              "          docLink.innerHTML = docLinkHtml;\n",
              "          element.appendChild(docLink);\n",
              "        }\n",
              "      </script>\n",
              "    </div>\n",
              "  </div>\n",
              "  "
            ]
          },
          "metadata": {},
          "execution_count": 9
        }
      ]
    },
    {
      "cell_type": "markdown",
      "metadata": {
        "id": "n-U8-y3iUCUZ"
      },
      "source": [
        "# **Exploratory Data Analysis**"
      ]
    },
    {
      "cell_type": "markdown",
      "metadata": {
        "id": "n0XsupKq0JNO"
      },
      "source": [
        "Selanjutnya kita melakukan eksplorasi pada dataset yang kita gunakan. Di bawah ini kita sedikit mencari kapan dimulainya, ditutup dan berapa lama proses transaksi pada harga saham TLKM"
      ]
    },
    {
      "cell_type": "code",
      "execution_count": null,
      "metadata": {
        "id": "uqAck9d3Ccon",
        "colab": {
          "base_uri": "https://localhost:8080/"
        },
        "outputId": "3924f41e-45bd-4566-aebf-3446f340214d"
      },
      "outputs": [
        {
          "output_type": "stream",
          "name": "stdout",
          "text": [
            "Starting date:  2021-03-12 00:00:00\n",
            "Ending date:  2022-09-01 00:00:00\n",
            "Duration:  538 days 00:00:00\n"
          ]
        }
      ],
      "source": [
        "print(\"Starting date: \", data.iloc[0][0])\n",
        "print(\"Ending date: \", data.iloc[-1][0])\n",
        "print(\"Duration: \", data.iloc[-1][0]-data.iloc[0][0])"
      ]
    },
    {
      "cell_type": "markdown",
      "metadata": {
        "id": "ZQOpbDM80s7T"
      },
      "source": [
        "Menampilkan visualisasi berupa line plot dari data x yaitu Date dan y sebagai Close. Ditampikan visualisasi sebagai berikut"
      ]
    },
    {
      "cell_type": "code",
      "execution_count": null,
      "metadata": {
        "id": "Rx7n2-1cSL7G",
        "colab": {
          "base_uri": "https://localhost:8080/",
          "height": 352
        },
        "outputId": "4c78a806-5d99-483f-d961-9dd5cc8c910d"
      },
      "outputs": [
        {
          "output_type": "execute_result",
          "data": {
            "text/plain": [
              "<matplotlib.axes._subplots.AxesSubplot at 0x7f1429b75390>"
            ]
          },
          "metadata": {},
          "execution_count": 11
        },
        {
          "output_type": "display_data",
          "data": {
            "text/plain": [
              "<Figure size 720x360 with 1 Axes>"
            ],
            "image/png": "[encoded data removed]"
          },
          "metadata": {
            "needs_background": "light"
          }
        }
      ],
      "source": [
        "plt.figure (figsize=(10,5))\n",
        "sns.lineplot(data=data, x='Date', y='Close')"
      ]
    },
    {
      "cell_type": "markdown",
      "metadata": {
        "id": "TzhiKXI34S0t"
      },
      "source": [
        " Menambahkan variable baru pada data yaitu year, month dan month_year untuk mengkategorikan dan melihat hasil berdasarkan Bulan dan Tahunnya"
      ]
    },
    {
      "cell_type": "code",
      "execution_count": null,
      "metadata": {
        "id": "DC74EC-pg-jr"
      },
      "outputs": [],
      "source": [
        "#Membuat variable df untuk mengkategorikan bulan dan tahun\n",
        "df = data.copy()\n",
        "df['year'] = pd.Index(df['Date']).year\n",
        "df['month'] = pd.Index(df['Date']).month\n",
        "df['month_year'] = df['Date'].dt.to_period('M')"
      ]
    },
    {
      "cell_type": "markdown",
      "metadata": {
        "id": "36EfXkkG5RJd"
      },
      "source": [
        "Menampilkan visualisasi Distribusi dari harga Open, High, Low, dan Close dengan mengkategorikan variable year dan mencari rata-rata pertahunnya."
      ]
    },
    {
      "cell_type": "code",
      "execution_count": null,
      "metadata": {
        "id": "-yBPVr3smDZi",
        "colab": {
          "base_uri": "https://localhost:8080/",
          "height": 542
        },
        "outputId": "8e627a50-e150-44b7-f87c-73bfd775b24d"
      },
      "outputs": [
        {
          "output_type": "display_data",
          "data": {
            "text/html": [
              "<html>\n",
              "<head><meta charset=\"utf-8\" /></head>\n",
              "<body>\n",
              "    <div>            <script src=\"https://cdnjs.cloudflare.com/ajax/libs/mathjax/2.7.5/MathJax.js?config=TeX-AMS-MML_SVG\"></script><script type=\"text/javascript\">if (window.MathJax) {MathJax.Hub.Config({SVG: {font: \"STIX-Web\"}});}</script>                <script type=\"text/javascript\">window.PlotlyConfig = {MathJaxConfig: 'local'};</script>\n",
              "        <script src=\"https://cdn.plot.ly/plotly-2.8.3.min.js\"></script>                <div id=\"418a28ef-3efc-4969-807b-972048aab32d\" class=\"plotly-graph-div\" style=\"height:525px; width:100%;\"></div>            <script type=\"text/javascript\">                                    window.PLOTLYENV=window.PLOTLYENV || {};                                    if (document.getElementById(\"418a28ef-3efc-4969-807b-972048aab32d\")) {                    Plotly.newPlot(                        \"418a28ef-3efc-4969-807b-972048aab32d\",                        [{\"alignmentgroup\":\"True\",\"hovertemplate\":\"variable=Open<br>year=%{x}<br>value=%{y}<extra></extra>\",\"legendgroup\":\"Open\",\"marker\":{\"color\":\"#636efa\",\"pattern\":{\"shape\":\"\"}},\"name\":\"Open\",\"offsetgroup\":\"Open\",\"orientation\":\"v\",\"showlegend\":true,\"textposition\":\"auto\",\"texttemplate\":\"%{y}\",\"x\":[2021,2022],\"xaxis\":\"x\",\"y\":[3502.9,4344.9375],\"yaxis\":\"y\",\"type\":\"bar\"},{\"alignmentgroup\":\"True\",\"hovertemplate\":\"variable=High<br>year=%{x}<br>value=%{y}<extra></extra>\",\"legendgroup\":\"High\",\"marker\":{\"color\":\"#EF553B\",\"pattern\":{\"shape\":\"\"}},\"name\":\"High\",\"offsetgroup\":\"High\",\"orientation\":\"v\",\"showlegend\":true,\"textposition\":\"auto\",\"texttemplate\":\"%{y}\",\"x\":[2021,2022],\"xaxis\":\"x\",\"y\":[3541.55,4389.75],\"yaxis\":\"y\",\"type\":\"bar\"},{\"alignmentgroup\":\"True\",\"hovertemplate\":\"variable=Low<br>year=%{x}<br>value=%{y}<extra></extra>\",\"legendgroup\":\"Low\",\"marker\":{\"color\":\"#00cc96\",\"pattern\":{\"shape\":\"\"}},\"name\":\"Low\",\"offsetgroup\":\"Low\",\"orientation\":\"v\",\"showlegend\":true,\"textposition\":\"auto\",\"texttemplate\":\"%{y}\",\"x\":[2021,2022],\"xaxis\":\"x\",\"y\":[3464.9,4289.3125],\"yaxis\":\"y\",\"type\":\"bar\"},{\"alignmentgroup\":\"True\",\"hovertemplate\":\"variable=Close<br>year=%{x}<br>value=%{y}<extra></extra>\",\"legendgroup\":\"Close\",\"marker\":{\"color\":\"#ab63fa\",\"pattern\":{\"shape\":\"\"}},\"name\":\"Close\",\"offsetgroup\":\"Close\",\"orientation\":\"v\",\"showlegend\":true,\"textposition\":\"auto\",\"texttemplate\":\"%{y}\",\"x\":[2021,2022],\"xaxis\":\"x\",\"y\":[3505.15,4343.75],\"yaxis\":\"y\",\"type\":\"bar\"}],                        {\"template\":{\"data\":{\"bar\":[{\"error_x\":{\"color\":\"#2a3f5f\"},\"error_y\":{\"color\":\"#2a3f5f\"},\"marker\":{\"line\":{\"color\":\"#E5ECF6\",\"width\":0.5},\"pattern\":{\"fillmode\":\"overlay\",\"size\":10,\"solidity\":0.2}},\"type\":\"bar\"}],\"barpolar\":[{\"marker\":{\"line\":{\"color\":\"#E5ECF6\",\"width\":0.5},\"pattern\":{\"fillmode\":\"overlay\",\"size\":10,\"solidity\":0.2}},\"type\":\"barpolar\"}],\"carpet\":[{\"aaxis\":{\"endlinecolor\":\"#2a3f5f\",\"gridcolor\":\"white\",\"linecolor\":\"white\",\"minorgridcolor\":\"white\",\"startlinecolor\":\"#2a3f5f\"},\"baxis\":{\"endlinecolor\":\"#2a3f5f\",\"gridcolor\":\"white\",\"linecolor\":\"white\",\"minorgridcolor\":\"white\",\"startlinecolor\":\"#2a3f5f\"},\"type\":\"carpet\"}],\"choropleth\":[{\"colorbar\":{\"outlinewidth\":0,\"ticks\":\"\"},\"type\":\"choropleth\"}],\"contour\":[{\"colorbar\":{\"outlinewidth\":0,\"ticks\":\"\"},\"colorscale\":[[0.0,\"#0d0887\"],[0.1111111111111111,\"#46039f\"],[0.2222222222222222,\"#7201a8\"],[0.3333333333333333,\"#9c179e\"],[0.4444444444444444,\"#bd3786\"],[0.5555555555555556,\"#d8576b\"],[0.6666666666666666,\"#ed7953\"],[0.7777777777777778,\"#fb9f3a\"],[0.8888888888888888,\"#fdca26\"],[1.0,\"#f0f921\"]],\"type\":\"contour\"}],\"contourcarpet\":[{\"colorbar\":{\"outlinewidth\":0,\"ticks\":\"\"},\"type\":\"contourcarpet\"}],\"heatmap\":[{\"colorbar\":{\"outlinewidth\":0,\"ticks\":\"\"},\"colorscale\":[[0.0,\"#0d0887\"],[0.1111111111111111,\"#46039f\"],[0.2222222222222222,\"#7201a8\"],[0.3333333333333333,\"#9c179e\"],[0.4444444444444444,\"#bd3786\"],[0.5555555555555556,\"#d8576b\"],[0.6666666666666666,\"#ed7953\"],[0.7777777777777778,\"#fb9f3a\"],[0.8888888888888888,\"#fdca26\"],[1.0,\"#f0f921\"]],\"type\":\"heatmap\"}],\"heatmapgl\":[{\"colorbar\":{\"outlinewidth\":0,\"ticks\":\"\"},\"colorscale\":[[0.0,\"#0d0887\"],[0.1111111111111111,\"#46039f\"],[0.2222222222222222,\"#7201a8\"],[0.3333333333333333,\"#9c179e\"],[0.4444444444444444,\"#bd3786\"],[0.5555555555555556,\"#d8576b\"],[0.6666666666666666,\"#ed7953\"],[0.7777777777777778,\"#fb9f3a\"],[0.8888888888888888,\"#fdca26\"],[1.0,\"#f0f921\"]],\"type\":\"heatmapgl\"}],\"histogram\":[{\"marker\":{\"pattern\":{\"fillmode\":\"overlay\",\"size\":10,\"solidity\":0.2}},\"type\":\"histogram\"}],\"histogram2d\":[{\"colorbar\":{\"outlinewidth\":0,\"ticks\":\"\"},\"colorscale\":[[0.0,\"#0d0887\"],[0.1111111111111111,\"#46039f\"],[0.2222222222222222,\"#7201a8\"],[0.3333333333333333,\"#9c179e\"],[0.4444444444444444,\"#bd3786\"],[0.5555555555555556,\"#d8576b\"],[0.6666666666666666,\"#ed7953\"],[0.7777777777777778,\"#fb9f3a\"],[0.8888888888888888,\"#fdca26\"],[1.0,\"#f0f921\"]],\"type\":\"histogram2d\"}],\"histogram2dcontour\":[{\"colorbar\":{\"outlinewidth\":0,\"ticks\":\"\"},\"colorscale\":[[0.0,\"#0d0887\"],[0.1111111111111111,\"#46039f\"],[0.2222222222222222,\"#7201a8\"],[0.3333333333333333,\"#9c179e\"],[0.4444444444444444,\"#bd3786\"],[0.5555555555555556,\"#d8576b\"],[0.6666666666666666,\"#ed7953\"],[0.7777777777777778,\"#fb9f3a\"],[0.8888888888888888,\"#fdca26\"],[1.0,\"#f0f921\"]],\"type\":\"histogram2dcontour\"}],\"mesh3d\":[{\"colorbar\":{\"outlinewidth\":0,\"ticks\":\"\"},\"type\":\"mesh3d\"}],\"parcoords\":[{\"line\":{\"colorbar\":{\"outlinewidth\":0,\"ticks\":\"\"}},\"type\":\"parcoords\"}],\"pie\":[{\"automargin\":true,\"type\":\"pie\"}],\"scatter\":[{\"marker\":{\"colorbar\":{\"outlinewidth\":0,\"ticks\":\"\"}},\"type\":\"scatter\"}],\"scatter3d\":[{\"line\":{\"colorbar\":{\"outlinewidth\":0,\"ticks\":\"\"}},\"marker\":{\"colorbar\":{\"outlinewidth\":0,\"ticks\":\"\"}},\"type\":\"scatter3d\"}],\"scattercarpet\":[{\"marker\":{\"colorbar\":{\"outlinewidth\":0,\"ticks\":\"\"}},\"type\":\"scattercarpet\"}],\"scattergeo\":[{\"marker\":{\"colorbar\":{\"outlinewidth\":0,\"ticks\":\"\"}},\"type\":\"scattergeo\"}],\"scattergl\":[{\"marker\":{\"colorbar\":{\"outlinewidth\":0,\"ticks\":\"\"}},\"type\":\"scattergl\"}],\"scattermapbox\":[{\"marker\":{\"colorbar\":{\"outlinewidth\":0,\"ticks\":\"\"}},\"type\":\"scattermapbox\"}],\"scatterpolar\":[{\"marker\":{\"colorbar\":{\"outlinewidth\":0,\"ticks\":\"\"}},\"type\":\"scatterpolar\"}],\"scatterpolargl\":[{\"marker\":{\"colorbar\":{\"outlinewidth\":0,\"ticks\":\"\"}},\"type\":\"scatterpolargl\"}],\"scatterternary\":[{\"marker\":{\"colorbar\":{\"outlinewidth\":0,\"ticks\":\"\"}},\"type\":\"scatterternary\"}],\"surface\":[{\"colorbar\":{\"outlinewidth\":0,\"ticks\":\"\"},\"colorscale\":[[0.0,\"#0d0887\"],[0.1111111111111111,\"#46039f\"],[0.2222222222222222,\"#7201a8\"],[0.3333333333333333,\"#9c179e\"],[0.4444444444444444,\"#bd3786\"],[0.5555555555555556,\"#d8576b\"],[0.6666666666666666,\"#ed7953\"],[0.7777777777777778,\"#fb9f3a\"],[0.8888888888888888,\"#fdca26\"],[1.0,\"#f0f921\"]],\"type\":\"surface\"}],\"table\":[{\"cells\":{\"fill\":{\"color\":\"#EBF0F8\"},\"line\":{\"color\":\"white\"}},\"header\":{\"fill\":{\"color\":\"#C8D4E3\"},\"line\":{\"color\":\"white\"}},\"type\":\"table\"}]},\"layout\":{\"annotationdefaults\":{\"arrowcolor\":\"#2a3f5f\",\"arrowhead\":0,\"arrowwidth\":1},\"autotypenumbers\":\"strict\",\"coloraxis\":{\"colorbar\":{\"outlinewidth\":0,\"ticks\":\"\"}},\"colorscale\":{\"diverging\":[[0,\"#8e0152\"],[0.1,\"#c51b7d\"],[0.2,\"#de77ae\"],[0.3,\"#f1b6da\"],[0.4,\"#fde0ef\"],[0.5,\"#f7f7f7\"],[0.6,\"#e6f5d0\"],[0.7,\"#b8e186\"],[0.8,\"#7fbc41\"],[0.9,\"#4d9221\"],[1,\"#276419\"]],\"sequential\":[[0.0,\"#0d0887\"],[0.1111111111111111,\"#46039f\"],[0.2222222222222222,\"#7201a8\"],[0.3333333333333333,\"#9c179e\"],[0.4444444444444444,\"#bd3786\"],[0.5555555555555556,\"#d8576b\"],[0.6666666666666666,\"#ed7953\"],[0.7777777777777778,\"#fb9f3a\"],[0.8888888888888888,\"#fdca26\"],[1.0,\"#f0f921\"]],\"sequentialminus\":[[0.0,\"#0d0887\"],[0.1111111111111111,\"#46039f\"],[0.2222222222222222,\"#7201a8\"],[0.3333333333333333,\"#9c179e\"],[0.4444444444444444,\"#bd3786\"],[0.5555555555555556,\"#d8576b\"],[0.6666666666666666,\"#ed7953\"],[0.7777777777777778,\"#fb9f3a\"],[0.8888888888888888,\"#fdca26\"],[1.0,\"#f0f921\"]]},\"colorway\":[\"#636efa\",\"#EF553B\",\"#00cc96\",\"#ab63fa\",\"#FFA15A\",\"#19d3f3\",\"#FF6692\",\"#B6E880\",\"#FF97FF\",\"#FECB52\"],\"font\":{\"color\":\"#2a3f5f\"},\"geo\":{\"bgcolor\":\"white\",\"lakecolor\":\"white\",\"landcolor\":\"#E5ECF6\",\"showlakes\":true,\"showland\":true,\"subunitcolor\":\"white\"},\"hoverlabel\":{\"align\":\"left\"},\"hovermode\":\"closest\",\"mapbox\":{\"style\":\"light\"},\"paper_bgcolor\":\"white\",\"plot_bgcolor\":\"#E5ECF6\",\"polar\":{\"angularaxis\":{\"gridcolor\":\"white\",\"linecolor\":\"white\",\"ticks\":\"\"},\"bgcolor\":\"#E5ECF6\",\"radialaxis\":{\"gridcolor\":\"white\",\"linecolor\":\"white\",\"ticks\":\"\"}},\"scene\":{\"xaxis\":{\"backgroundcolor\":\"#E5ECF6\",\"gridcolor\":\"white\",\"gridwidth\":2,\"linecolor\":\"white\",\"showbackground\":true,\"ticks\":\"\",\"zerolinecolor\":\"white\"},\"yaxis\":{\"backgroundcolor\":\"#E5ECF6\",\"gridcolor\":\"white\",\"gridwidth\":2,\"linecolor\":\"white\",\"showbackground\":true,\"ticks\":\"\",\"zerolinecolor\":\"white\"},\"zaxis\":{\"backgroundcolor\":\"#E5ECF6\",\"gridcolor\":\"white\",\"gridwidth\":2,\"linecolor\":\"white\",\"showbackground\":true,\"ticks\":\"\",\"zerolinecolor\":\"white\"}},\"shapedefaults\":{\"line\":{\"color\":\"#2a3f5f\"}},\"ternary\":{\"aaxis\":{\"gridcolor\":\"white\",\"linecolor\":\"white\",\"ticks\":\"\"},\"baxis\":{\"gridcolor\":\"white\",\"linecolor\":\"white\",\"ticks\":\"\"},\"bgcolor\":\"#E5ECF6\",\"caxis\":{\"gridcolor\":\"white\",\"linecolor\":\"white\",\"ticks\":\"\"}},\"title\":{\"x\":0.05},\"xaxis\":{\"automargin\":true,\"gridcolor\":\"white\",\"linecolor\":\"white\",\"ticks\":\"\",\"title\":{\"standoff\":15},\"zerolinecolor\":\"white\",\"zerolinewidth\":2},\"yaxis\":{\"automargin\":true,\"gridcolor\":\"white\",\"linecolor\":\"white\",\"ticks\":\"\",\"title\":{\"standoff\":15},\"zerolinecolor\":\"white\",\"zerolinewidth\":2}}},\"xaxis\":{\"anchor\":\"y\",\"domain\":[0.0,1.0],\"title\":{\"text\":\"year\"}},\"yaxis\":{\"anchor\":\"x\",\"domain\":[0.0,1.0],\"title\":{\"text\":\"value\"}},\"legend\":{\"title\":{\"text\":\"variable\"},\"tracegroupgap\":0},\"title\":{\"text\":\"Distrubitions of Opening, High, Low and Closing Prices by Years\"},\"barmode\":\"group\"},                        {\"responsive\": true}                    ).then(function(){\n",
              "                            \n",
              "var gd = document.getElementById('418a28ef-3efc-4969-807b-972048aab32d');\n",
              "var x = new MutationObserver(function (mutations, observer) {{\n",
              "        var display = window.getComputedStyle(gd).display;\n",
              "        if (!display || display === 'none') {{\n",
              "            console.log([gd, 'removed!']);\n",
              "            Plotly.purge(gd);\n",
              "            observer.disconnect();\n",
              "        }}\n",
              "}});\n",
              "\n",
              "// Listen for the removal of the full notebook cells\n",
              "var notebookContainer = gd.closest('#notebook-container');\n",
              "if (notebookContainer) {{\n",
              "    x.observe(notebookContainer, {childList: true});\n",
              "}}\n",
              "\n",
              "// Listen for the clearing of the current output cell\n",
              "var outputEl = gd.closest('.output');\n",
              "if (outputEl) {{\n",
              "    x.observe(outputEl, {childList: true});\n",
              "}}\n",
              "\n",
              "                        })                };                            </script>        </div>\n",
              "</body>\n",
              "</html>"
            ]
          },
          "metadata": {}
        }
      ],
      "source": [
        "#Mengkategorikan distribusi Open, High, Low dan Close pertahun\n",
        "stocks_year = df.groupby(by='year').mean()\n",
        "fig = px.bar(stocks_year, x=stocks_year.index, \n",
        "             y=stocks_year.iloc[:,:4].columns,\n",
        "             title=\"Distrubitions of Opening, High, Low and Closing Prices by Years\",\n",
        "             barmode = 'group',text_auto=True)\n",
        "fig.show()"
      ]
    },
    {
      "cell_type": "markdown",
      "metadata": {
        "id": "d6NtbumI50ns"
      },
      "source": [
        "Selanjutnya kita menampilkan visualisasi Distribusi dari harga Open, High, Low, dan Close dengan mengkategorikan variable year dan mencari rata-rata perbulannya."
      ]
    },
    {
      "cell_type": "code",
      "execution_count": null,
      "metadata": {
        "id": "uQXPPf9lgsRS",
        "colab": {
          "base_uri": "https://localhost:8080/",
          "height": 542
        },
        "outputId": "e1832c29-0c78-4103-b68c-a0b108915c65"
      },
      "outputs": [
        {
          "output_type": "display_data",
          "data": {
            "text/html": [
              "<html>\n",
              "<head><meta charset=\"utf-8\" /></head>\n",
              "<body>\n",
              "    <div>            <script src=\"https://cdnjs.cloudflare.com/ajax/libs/mathjax/2.7.5/MathJax.js?config=TeX-AMS-MML_SVG\"></script><script type=\"text/javascript\">if (window.MathJax) {MathJax.Hub.Config({SVG: {font: \"STIX-Web\"}});}</script>                <script type=\"text/javascript\">window.PlotlyConfig = {MathJaxConfig: 'local'};</script>\n",
              "        <script src=\"https://cdn.plot.ly/plotly-2.8.3.min.js\"></script>                <div id=\"53653cb2-5156-461e-8ff4-c304e32ba1e8\" class=\"plotly-graph-div\" style=\"height:525px; width:100%;\"></div>            <script type=\"text/javascript\">                                    window.PLOTLYENV=window.PLOTLYENV || {};                                    if (document.getElementById(\"53653cb2-5156-461e-8ff4-c304e32ba1e8\")) {                    Plotly.newPlot(                        \"53653cb2-5156-461e-8ff4-c304e32ba1e8\",                        [{\"alignmentgroup\":\"True\",\"hovertemplate\":\"variable=Open<br>month=%{x}<br>value=%{y}<extra></extra>\",\"legendgroup\":\"Open\",\"marker\":{\"color\":\"#636efa\",\"pattern\":{\"shape\":\"\"}},\"name\":\"Open\",\"offsetgroup\":\"Open\",\"orientation\":\"v\",\"showlegend\":true,\"textposition\":\"auto\",\"texttemplate\":\"%{y}\",\"x\":[1,2,3,4,5,6,7,8,9,10,11,12],\"xaxis\":\"x\",\"y\":[4206.666666666667,4323.888888888889,4103.055555555556,3945.5,3716.25,3742.8571428571427,3631.190476190476,3961.904761904762,3497.8260869565215,3763.5,3772.2727272727275,4105.909090909091],\"yaxis\":\"y\",\"type\":\"bar\"},{\"alignmentgroup\":\"True\",\"hovertemplate\":\"variable=High<br>month=%{x}<br>value=%{y}<extra></extra>\",\"legendgroup\":\"High\",\"marker\":{\"color\":\"#EF553B\",\"pattern\":{\"shape\":\"\"}},\"name\":\"High\",\"offsetgroup\":\"High\",\"orientation\":\"v\",\"showlegend\":true,\"textposition\":\"auto\",\"texttemplate\":\"%{y}\",\"x\":[1,2,3,4,5,6,7,8,9,10,11,12],\"xaxis\":\"x\",\"y\":[4240.476190476191,4363.333333333333,4139.722222222223,3972.5,3762.1875,3787.3809523809523,3667.3809523809523,4018.095238095238,3535.6521739130435,3803.0,3824.090909090909,4154.090909090909],\"yaxis\":\"y\",\"type\":\"bar\"},{\"alignmentgroup\":\"True\",\"hovertemplate\":\"variable=Low<br>month=%{x}<br>value=%{y}<extra></extra>\",\"legendgroup\":\"Low\",\"marker\":{\"color\":\"#00cc96\",\"pattern\":{\"shape\":\"\"}},\"name\":\"Low\",\"offsetgroup\":\"Low\",\"orientation\":\"v\",\"showlegend\":true,\"textposition\":\"auto\",\"texttemplate\":\"%{y}\",\"x\":[1,2,3,4,5,6,7,8,9,10,11,12],\"xaxis\":\"x\",\"y\":[4153.809523809524,4276.111111111111,4044.1666666666665,3907.25,3665.625,3699.285714285714,3582.3809523809523,3915.9523809523807,3464.3478260869565,3728.0,3721.818181818182,4066.818181818182],\"yaxis\":\"y\",\"type\":\"bar\"},{\"alignmentgroup\":\"True\",\"hovertemplate\":\"variable=Close<br>month=%{x}<br>value=%{y}<extra></extra>\",\"legendgroup\":\"Close\",\"marker\":{\"color\":\"#ab63fa\",\"pattern\":{\"shape\":\"\"}},\"name\":\"Close\",\"offsetgroup\":\"Close\",\"orientation\":\"v\",\"showlegend\":true,\"textposition\":\"auto\",\"texttemplate\":\"%{y}\",\"x\":[1,2,3,4,5,6,7,8,9,10,11,12],\"xaxis\":\"x\",\"y\":[4204.285714285715,4329.444444444444,4088.8888888888887,3935.5,3710.625,3741.904761904762,3631.190476190476,3980.9523809523807,3510.4347826086955,3772.5,3772.7272727272725,4108.636363636364],\"yaxis\":\"y\",\"type\":\"bar\"}],                        {\"template\":{\"data\":{\"bar\":[{\"error_x\":{\"color\":\"#2a3f5f\"},\"error_y\":{\"color\":\"#2a3f5f\"},\"marker\":{\"line\":{\"color\":\"#E5ECF6\",\"width\":0.5},\"pattern\":{\"fillmode\":\"overlay\",\"size\":10,\"solidity\":0.2}},\"type\":\"bar\"}],\"barpolar\":[{\"marker\":{\"line\":{\"color\":\"#E5ECF6\",\"width\":0.5},\"pattern\":{\"fillmode\":\"overlay\",\"size\":10,\"solidity\":0.2}},\"type\":\"barpolar\"}],\"carpet\":[{\"aaxis\":{\"endlinecolor\":\"#2a3f5f\",\"gridcolor\":\"white\",\"linecolor\":\"white\",\"minorgridcolor\":\"white\",\"startlinecolor\":\"#2a3f5f\"},\"baxis\":{\"endlinecolor\":\"#2a3f5f\",\"gridcolor\":\"white\",\"linecolor\":\"white\",\"minorgridcolor\":\"white\",\"startlinecolor\":\"#2a3f5f\"},\"type\":\"carpet\"}],\"choropleth\":[{\"colorbar\":{\"outlinewidth\":0,\"ticks\":\"\"},\"type\":\"choropleth\"}],\"contour\":[{\"colorbar\":{\"outlinewidth\":0,\"ticks\":\"\"},\"colorscale\":[[0.0,\"#0d0887\"],[0.1111111111111111,\"#46039f\"],[0.2222222222222222,\"#7201a8\"],[0.3333333333333333,\"#9c179e\"],[0.4444444444444444,\"#bd3786\"],[0.5555555555555556,\"#d8576b\"],[0.6666666666666666,\"#ed7953\"],[0.7777777777777778,\"#fb9f3a\"],[0.8888888888888888,\"#fdca26\"],[1.0,\"#f0f921\"]],\"type\":\"contour\"}],\"contourcarpet\":[{\"colorbar\":{\"outlinewidth\":0,\"ticks\":\"\"},\"type\":\"contourcarpet\"}],\"heatmap\":[{\"colorbar\":{\"outlinewidth\":0,\"ticks\":\"\"},\"colorscale\":[[0.0,\"#0d0887\"],[0.1111111111111111,\"#46039f\"],[0.2222222222222222,\"#7201a8\"],[0.3333333333333333,\"#9c179e\"],[0.4444444444444444,\"#bd3786\"],[0.5555555555555556,\"#d8576b\"],[0.6666666666666666,\"#ed7953\"],[0.7777777777777778,\"#fb9f3a\"],[0.8888888888888888,\"#fdca26\"],[1.0,\"#f0f921\"]],\"type\":\"heatmap\"}],\"heatmapgl\":[{\"colorbar\":{\"outlinewidth\":0,\"ticks\":\"\"},\"colorscale\":[[0.0,\"#0d0887\"],[0.1111111111111111,\"#46039f\"],[0.2222222222222222,\"#7201a8\"],[0.3333333333333333,\"#9c179e\"],[0.4444444444444444,\"#bd3786\"],[0.5555555555555556,\"#d8576b\"],[0.6666666666666666,\"#ed7953\"],[0.7777777777777778,\"#fb9f3a\"],[0.8888888888888888,\"#fdca26\"],[1.0,\"#f0f921\"]],\"type\":\"heatmapgl\"}],\"histogram\":[{\"marker\":{\"pattern\":{\"fillmode\":\"overlay\",\"size\":10,\"solidity\":0.2}},\"type\":\"histogram\"}],\"histogram2d\":[{\"colorbar\":{\"outlinewidth\":0,\"ticks\":\"\"},\"colorscale\":[[0.0,\"#0d0887\"],[0.1111111111111111,\"#46039f\"],[0.2222222222222222,\"#7201a8\"],[0.3333333333333333,\"#9c179e\"],[0.4444444444444444,\"#bd3786\"],[0.5555555555555556,\"#d8576b\"],[0.6666666666666666,\"#ed7953\"],[0.7777777777777778,\"#fb9f3a\"],[0.8888888888888888,\"#fdca26\"],[1.0,\"#f0f921\"]],\"type\":\"histogram2d\"}],\"histogram2dcontour\":[{\"colorbar\":{\"outlinewidth\":0,\"ticks\":\"\"},\"colorscale\":[[0.0,\"#0d0887\"],[0.1111111111111111,\"#46039f\"],[0.2222222222222222,\"#7201a8\"],[0.3333333333333333,\"#9c179e\"],[0.4444444444444444,\"#bd3786\"],[0.5555555555555556,\"#d8576b\"],[0.6666666666666666,\"#ed7953\"],[0.7777777777777778,\"#fb9f3a\"],[0.8888888888888888,\"#fdca26\"],[1.0,\"#f0f921\"]],\"type\":\"histogram2dcontour\"}],\"mesh3d\":[{\"colorbar\":{\"outlinewidth\":0,\"ticks\":\"\"},\"type\":\"mesh3d\"}],\"parcoords\":[{\"line\":{\"colorbar\":{\"outlinewidth\":0,\"ticks\":\"\"}},\"type\":\"parcoords\"}],\"pie\":[{\"automargin\":true,\"type\":\"pie\"}],\"scatter\":[{\"marker\":{\"colorbar\":{\"outlinewidth\":0,\"ticks\":\"\"}},\"type\":\"scatter\"}],\"scatter3d\":[{\"line\":{\"colorbar\":{\"outlinewidth\":0,\"ticks\":\"\"}},\"marker\":{\"colorbar\":{\"outlinewidth\":0,\"ticks\":\"\"}},\"type\":\"scatter3d\"}],\"scattercarpet\":[{\"marker\":{\"colorbar\":{\"outlinewidth\":0,\"ticks\":\"\"}},\"type\":\"scattercarpet\"}],\"scattergeo\":[{\"marker\":{\"colorbar\":{\"outlinewidth\":0,\"ticks\":\"\"}},\"type\":\"scattergeo\"}],\"scattergl\":[{\"marker\":{\"colorbar\":{\"outlinewidth\":0,\"ticks\":\"\"}},\"type\":\"scattergl\"}],\"scattermapbox\":[{\"marker\":{\"colorbar\":{\"outlinewidth\":0,\"ticks\":\"\"}},\"type\":\"scattermapbox\"}],\"scatterpolar\":[{\"marker\":{\"colorbar\":{\"outlinewidth\":0,\"ticks\":\"\"}},\"type\":\"scatterpolar\"}],\"scatterpolargl\":[{\"marker\":{\"colorbar\":{\"outlinewidth\":0,\"ticks\":\"\"}},\"type\":\"scatterpolargl\"}],\"scatterternary\":[{\"marker\":{\"colorbar\":{\"outlinewidth\":0,\"ticks\":\"\"}},\"type\":\"scatterternary\"}],\"surface\":[{\"colorbar\":{\"outlinewidth\":0,\"ticks\":\"\"},\"colorscale\":[[0.0,\"#0d0887\"],[0.1111111111111111,\"#46039f\"],[0.2222222222222222,\"#7201a8\"],[0.3333333333333333,\"#9c179e\"],[0.4444444444444444,\"#bd3786\"],[0.5555555555555556,\"#d8576b\"],[0.6666666666666666,\"#ed7953\"],[0.7777777777777778,\"#fb9f3a\"],[0.8888888888888888,\"#fdca26\"],[1.0,\"#f0f921\"]],\"type\":\"surface\"}],\"table\":[{\"cells\":{\"fill\":{\"color\":\"#EBF0F8\"},\"line\":{\"color\":\"white\"}},\"header\":{\"fill\":{\"color\":\"#C8D4E3\"},\"line\":{\"color\":\"white\"}},\"type\":\"table\"}]},\"layout\":{\"annotationdefaults\":{\"arrowcolor\":\"#2a3f5f\",\"arrowhead\":0,\"arrowwidth\":1},\"autotypenumbers\":\"strict\",\"coloraxis\":{\"colorbar\":{\"outlinewidth\":0,\"ticks\":\"\"}},\"colorscale\":{\"diverging\":[[0,\"#8e0152\"],[0.1,\"#c51b7d\"],[0.2,\"#de77ae\"],[0.3,\"#f1b6da\"],[0.4,\"#fde0ef\"],[0.5,\"#f7f7f7\"],[0.6,\"#e6f5d0\"],[0.7,\"#b8e186\"],[0.8,\"#7fbc41\"],[0.9,\"#4d9221\"],[1,\"#276419\"]],\"sequential\":[[0.0,\"#0d0887\"],[0.1111111111111111,\"#46039f\"],[0.2222222222222222,\"#7201a8\"],[0.3333333333333333,\"#9c179e\"],[0.4444444444444444,\"#bd3786\"],[0.5555555555555556,\"#d8576b\"],[0.6666666666666666,\"#ed7953\"],[0.7777777777777778,\"#fb9f3a\"],[0.8888888888888888,\"#fdca26\"],[1.0,\"#f0f921\"]],\"sequentialminus\":[[0.0,\"#0d0887\"],[0.1111111111111111,\"#46039f\"],[0.2222222222222222,\"#7201a8\"],[0.3333333333333333,\"#9c179e\"],[0.4444444444444444,\"#bd3786\"],[0.5555555555555556,\"#d8576b\"],[0.6666666666666666,\"#ed7953\"],[0.7777777777777778,\"#fb9f3a\"],[0.8888888888888888,\"#fdca26\"],[1.0,\"#f0f921\"]]},\"colorway\":[\"#636efa\",\"#EF553B\",\"#00cc96\",\"#ab63fa\",\"#FFA15A\",\"#19d3f3\",\"#FF6692\",\"#B6E880\",\"#FF97FF\",\"#FECB52\"],\"font\":{\"color\":\"#2a3f5f\"},\"geo\":{\"bgcolor\":\"white\",\"lakecolor\":\"white\",\"landcolor\":\"#E5ECF6\",\"showlakes\":true,\"showland\":true,\"subunitcolor\":\"white\"},\"hoverlabel\":{\"align\":\"left\"},\"hovermode\":\"closest\",\"mapbox\":{\"style\":\"light\"},\"paper_bgcolor\":\"white\",\"plot_bgcolor\":\"#E5ECF6\",\"polar\":{\"angularaxis\":{\"gridcolor\":\"white\",\"linecolor\":\"white\",\"ticks\":\"\"},\"bgcolor\":\"#E5ECF6\",\"radialaxis\":{\"gridcolor\":\"white\",\"linecolor\":\"white\",\"ticks\":\"\"}},\"scene\":{\"xaxis\":{\"backgroundcolor\":\"#E5ECF6\",\"gridcolor\":\"white\",\"gridwidth\":2,\"linecolor\":\"white\",\"showbackground\":true,\"ticks\":\"\",\"zerolinecolor\":\"white\"},\"yaxis\":{\"backgroundcolor\":\"#E5ECF6\",\"gridcolor\":\"white\",\"gridwidth\":2,\"linecolor\":\"white\",\"showbackground\":true,\"ticks\":\"\",\"zerolinecolor\":\"white\"},\"zaxis\":{\"backgroundcolor\":\"#E5ECF6\",\"gridcolor\":\"white\",\"gridwidth\":2,\"linecolor\":\"white\",\"showbackground\":true,\"ticks\":\"\",\"zerolinecolor\":\"white\"}},\"shapedefaults\":{\"line\":{\"color\":\"#2a3f5f\"}},\"ternary\":{\"aaxis\":{\"gridcolor\":\"white\",\"linecolor\":\"white\",\"ticks\":\"\"},\"baxis\":{\"gridcolor\":\"white\",\"linecolor\":\"white\",\"ticks\":\"\"},\"bgcolor\":\"#E5ECF6\",\"caxis\":{\"gridcolor\":\"white\",\"linecolor\":\"white\",\"ticks\":\"\"}},\"title\":{\"x\":0.05},\"xaxis\":{\"automargin\":true,\"gridcolor\":\"white\",\"linecolor\":\"white\",\"ticks\":\"\",\"title\":{\"standoff\":15},\"zerolinecolor\":\"white\",\"zerolinewidth\":2},\"yaxis\":{\"automargin\":true,\"gridcolor\":\"white\",\"linecolor\":\"white\",\"ticks\":\"\",\"title\":{\"standoff\":15},\"zerolinecolor\":\"white\",\"zerolinewidth\":2}}},\"xaxis\":{\"anchor\":\"y\",\"domain\":[0.0,1.0],\"title\":{\"text\":\"month\"}},\"yaxis\":{\"anchor\":\"x\",\"domain\":[0.0,1.0],\"title\":{\"text\":\"value\"}},\"legend\":{\"title\":{\"text\":\"variable\"},\"tracegroupgap\":0},\"title\":{\"text\":\"Average Stock Prices by Month\"},\"barmode\":\"group\"},                        {\"responsive\": true}                    ).then(function(){\n",
              "                            \n",
              "var gd = document.getElementById('53653cb2-5156-461e-8ff4-c304e32ba1e8');\n",
              "var x = new MutationObserver(function (mutations, observer) {{\n",
              "        var display = window.getComputedStyle(gd).display;\n",
              "        if (!display || display === 'none') {{\n",
              "            console.log([gd, 'removed!']);\n",
              "            Plotly.purge(gd);\n",
              "            observer.disconnect();\n",
              "        }}\n",
              "}});\n",
              "\n",
              "// Listen for the removal of the full notebook cells\n",
              "var notebookContainer = gd.closest('#notebook-container');\n",
              "if (notebookContainer) {{\n",
              "    x.observe(notebookContainer, {childList: true});\n",
              "}}\n",
              "\n",
              "// Listen for the clearing of the current output cell\n",
              "var outputEl = gd.closest('.output');\n",
              "if (outputEl) {{\n",
              "    x.observe(outputEl, {childList: true});\n",
              "}}\n",
              "\n",
              "                        })                };                            </script>        </div>\n",
              "</body>\n",
              "</html>"
            ]
          },
          "metadata": {}
        }
      ],
      "source": [
        "#Visualisasi rata-rata harga saham pertahunnya\n",
        "stocks_year = df.groupby(by='month').mean()\n",
        "fig = px.bar(stocks_year, x=stocks_year.index, \n",
        "             y=stocks_year.iloc[:,:4].columns, \n",
        "             title=\"Average Stock Prices by Month\",\n",
        "             barmode = 'group',text_auto=True)\n",
        "fig.show()"
      ]
    },
    {
      "cell_type": "markdown",
      "metadata": {
        "id": "Byq-YVlRoHag"
      },
      "source": [
        "# **Modeling Long Short Term Memory (LSTM)**"
      ]
    },
    {
      "cell_type": "markdown",
      "metadata": {
        "id": "IrImlAhv9lfU"
      },
      "source": [
        "Pada saat modeling menggunakan LSTM kita hanya memakai satu variable index dan satu variable sebagai target, yaitu Close. Maka kita seleksi variable data Date dan Close."
      ]
    },
    {
      "cell_type": "code",
      "execution_count": null,
      "metadata": {
        "id": "2Eg-yElFNK2O",
        "colab": {
          "base_uri": "https://localhost:8080/",
          "height": 423
        },
        "outputId": "c3dfe16f-0ce3-400a-9eaa-8e34f9245044"
      },
      "outputs": [
        {
          "output_type": "execute_result",
          "data": {
            "text/plain": [
              "          Date   Close\n",
              "0   2021-03-12  3450.0\n",
              "1   2021-03-15  3380.0\n",
              "2   2021-03-16  3360.0\n",
              "3   2021-03-17  3390.0\n",
              "4   2021-03-18  3450.0\n",
              "..         ...     ...\n",
              "355 2022-08-26  4490.0\n",
              "356 2022-08-29  4520.0\n",
              "357 2022-08-30  4480.0\n",
              "358 2022-08-31  4560.0\n",
              "359 2022-09-01  4580.0\n",
              "\n",
              "[360 rows x 2 columns]"
            ],
            "text/html": [
              "\n",
              "  <div id=\"df-88623bf4-e45f-4176-924f-97b66bfea8c9\">\n",
              "    <div class=\"colab-df-container\">\n",
              "      <div>\n",
              "<style scoped>\n",
              "    .dataframe tbody tr th:only-of-type {\n",
              "        vertical-align: middle;\n",
              "    }\n",
              "\n",
              "    .dataframe tbody tr th {\n",
              "        vertical-align: top;\n",
              "    }\n",
              "\n",
              "    .dataframe thead th {\n",
              "        text-align: right;\n",
              "    }\n",
              "</style>\n",
              "<table border=\"1\" class=\"dataframe\">\n",
              "  <thead>\n",
              "    <tr style=\"text-align: right;\">\n",
              "      <th></th>\n",
              "      <th>Date</th>\n",
              "      <th>Close</th>\n",
              "    </tr>\n",
              "  </thead>\n",
              "  <tbody>\n",
              "    <tr>\n",
              "      <th>0</th>\n",
              "      <td>2021-03-12</td>\n",
              "      <td>3450.0</td>\n",
              "    </tr>\n",
              "    <tr>\n",
              "      <th>1</th>\n",
              "      <td>2021-03-15</td>\n",
              "      <td>3380.0</td>\n",
              "    </tr>\n",
              "    <tr>\n",
              "      <th>2</th>\n",
              "      <td>2021-03-16</td>\n",
              "      <td>3360.0</td>\n",
              "    </tr>\n",
              "    <tr>\n",
              "      <th>3</th>\n",
              "      <td>2021-03-17</td>\n",
              "      <td>3390.0</td>\n",
              "    </tr>\n",
              "    <tr>\n",
              "      <th>4</th>\n",
              "      <td>2021-03-18</td>\n",
              "      <td>3450.0</td>\n",
              "    </tr>\n",
              "    <tr>\n",
              "      <th>...</th>\n",
              "      <td>...</td>\n",
              "      <td>...</td>\n",
              "    </tr>\n",
              "    <tr>\n",
              "      <th>355</th>\n",
              "      <td>2022-08-26</td>\n",
              "      <td>4490.0</td>\n",
              "    </tr>\n",
              "    <tr>\n",
              "      <th>356</th>\n",
              "      <td>2022-08-29</td>\n",
              "      <td>4520.0</td>\n",
              "    </tr>\n",
              "    <tr>\n",
              "      <th>357</th>\n",
              "      <td>2022-08-30</td>\n",
              "      <td>4480.0</td>\n",
              "    </tr>\n",
              "    <tr>\n",
              "      <th>358</th>\n",
              "      <td>2022-08-31</td>\n",
              "      <td>4560.0</td>\n",
              "    </tr>\n",
              "    <tr>\n",
              "      <th>359</th>\n",
              "      <td>2022-09-01</td>\n",
              "      <td>4580.0</td>\n",
              "    </tr>\n",
              "  </tbody>\n",
              "</table>\n",
              "<p>360 rows × 2 columns</p>\n",
              "</div>\n",
              "      <button class=\"colab-df-convert\" onclick=\"convertToInteractive('df-88623bf4-e45f-4176-924f-97b66bfea8c9')\"\n",
              "              title=\"Convert this dataframe to an interactive table.\"\n",
              "              style=\"display:none;\">\n",
              "        \n",
              "  <svg xmlns=\"http://www.w3.org/2000/svg\" height=\"24px\"viewBox=\"0 0 24 24\"\n",
              "       width=\"24px\">\n",
              "    <path d=\"M0 0h24v24H0V0z\" fill=\"none\"/>\n",
              "    <path d=\"M18.56 5.44l.94 2.06.94-2.06 2.06-.94-2.06-.94-.94-2.06-.94 2.06-2.06.94zm-11 1L8.5 8.5l.94-2.06 2.06-.94-2.06-.94L8.5 2.5l-.94 2.06-2.06.94zm10 10l.94 2.06.94-2.06 2.06-.94-2.06-.94-.94-2.06-.94 2.06-2.06.94z\"/><path d=\"M17.41 7.96l-1.37-1.37c-.4-.4-.92-.59-1.43-.59-.52 0-1.04.2-1.43.59L10.3 9.45l-7.72 7.72c-.78.78-.78 2.05 0 2.83L4 21.41c.39.39.9.59 1.41.59.51 0 1.02-.2 1.41-.59l7.78-7.78 2.81-2.81c.8-.78.8-2.07 0-2.86zM5.41 20L4 18.59l7.72-7.72 1.47 1.35L5.41 20z\"/>\n",
              "  </svg>\n",
              "      </button>\n",
              "      \n",
              "  <style>\n",
              "    .colab-df-container {\n",
              "      display:flex;\n",
              "      flex-wrap:wrap;\n",
              "      gap: 12px;\n",
              "    }\n",
              "\n",
              "    .colab-df-convert {\n",
              "      background-color: #E8F0FE;\n",
              "      border: none;\n",
              "      border-radius: 50%;\n",
              "      cursor: pointer;\n",
              "      display: none;\n",
              "      fill: #1967D2;\n",
              "      height: 32px;\n",
              "      padding: 0 0 0 0;\n",
              "      width: 32px;\n",
              "    }\n",
              "\n",
              "    .colab-df-convert:hover {\n",
              "      background-color: #E2EBFA;\n",
              "      box-shadow: 0px 1px 2px rgba(60, 64, 67, 0.3), 0px 1px 3px 1px rgba(60, 64, 67, 0.15);\n",
              "      fill: #174EA6;\n",
              "    }\n",
              "\n",
              "    [theme=dark] .colab-df-convert {\n",
              "      background-color: #3B4455;\n",
              "      fill: #D2E3FC;\n",
              "    }\n",
              "\n",
              "    [theme=dark] .colab-df-convert:hover {\n",
              "      background-color: #434B5C;\n",
              "      box-shadow: 0px 1px 3px 1px rgba(0, 0, 0, 0.15);\n",
              "      filter: drop-shadow(0px 1px 2px rgba(0, 0, 0, 0.3));\n",
              "      fill: #FFFFFF;\n",
              "    }\n",
              "  </style>\n",
              "\n",
              "      <script>\n",
              "        const buttonEl =\n",
              "          document.querySelector('#df-88623bf4-e45f-4176-924f-97b66bfea8c9 button.colab-df-convert');\n",
              "        buttonEl.style.display =\n",
              "          google.colab.kernel.accessAllowed ? 'block' : 'none';\n",
              "\n",
              "        async function convertToInteractive(key) {\n",
              "          const element = document.querySelector('#df-88623bf4-e45f-4176-924f-97b66bfea8c9');\n",
              "          const dataTable =\n",
              "            await google.colab.kernel.invokeFunction('convertToInteractive',\n",
              "                                                     [key], {});\n",
              "          if (!dataTable) return;\n",
              "\n",
              "          const docLinkHtml = 'Like what you see? Visit the ' +\n",
              "            '<a target=\"_blank\" href=https://colab.research.google.com/notebooks/data_table.ipynb>data table notebook</a>'\n",
              "            + ' to learn more about interactive tables.';\n",
              "          element.innerHTML = '';\n",
              "          dataTable['output_type'] = 'display_data';\n",
              "          await google.colab.output.renderOutput(dataTable, element);\n",
              "          const docLink = document.createElement('div');\n",
              "          docLink.innerHTML = docLinkHtml;\n",
              "          element.appendChild(docLink);\n",
              "        }\n",
              "      </script>\n",
              "    </div>\n",
              "  </div>\n",
              "  "
            ]
          },
          "metadata": {},
          "execution_count": 15
        }
      ],
      "source": [
        "# Seleksi data Date dan Close sebagai feature\n",
        "tlkm_log = pd.DataFrame(columns=[\"Date\",\"Close\"])\n",
        "tlkm_log[\"Date\"] = data[\"Date\"]\n",
        "tlkm_log[\"Close\"] = data[\"Close\"]\n",
        "s\n",
        "# Specify datetime frequency\n",
        "tlkm_log.dropna(inplace=True)\n",
        "\n",
        "# ts_log.dropna(inplace=True)\n",
        "tlkm_log"
      ]
    },
    {
      "cell_type": "code",
      "source": [
        "# Mengubah varible Date menjadi Index\n",
        "tlkm_log.set_index('Date', inplace=True)\n",
        "#check datatype of index\n",
        "tlkm_log"
      ],
      "metadata": {
        "id": "RFjp-1yYv4CL",
        "colab": {
          "base_uri": "https://localhost:8080/",
          "height": 455
        },
        "outputId": "5ca53d21-10b9-4fb5-a50a-06a8202d5712"
      },
      "execution_count": null,
      "outputs": [
        {
          "output_type": "execute_result",
          "data": {
            "text/plain": [
              "             Close\n",
              "Date              \n",
              "2021-03-12  3450.0\n",
              "2021-03-15  3380.0\n",
              "2021-03-16  3360.0\n",
              "2021-03-17  3390.0\n",
              "2021-03-18  3450.0\n",
              "...            ...\n",
              "2022-08-26  4490.0\n",
              "2022-08-29  4520.0\n",
              "2022-08-30  4480.0\n",
              "2022-08-31  4560.0\n",
              "2022-09-01  4580.0\n",
              "\n",
              "[360 rows x 1 columns]"
            ],
            "text/html": [
              "\n",
              "  <div id=\"df-2187c7e8-92a8-4b69-a6f9-0bff37f88f4a\">\n",
              "    <div class=\"colab-df-container\">\n",
              "      <div>\n",
              "<style scoped>\n",
              "    .dataframe tbody tr th:only-of-type {\n",
              "        vertical-align: middle;\n",
              "    }\n",
              "\n",
              "    .dataframe tbody tr th {\n",
              "        vertical-align: top;\n",
              "    }\n",
              "\n",
              "    .dataframe thead th {\n",
              "        text-align: right;\n",
              "    }\n",
              "</style>\n",
              "<table border=\"1\" class=\"dataframe\">\n",
              "  <thead>\n",
              "    <tr style=\"text-align: right;\">\n",
              "      <th></th>\n",
              "      <th>Close</th>\n",
              "    </tr>\n",
              "    <tr>\n",
              "      <th>Date</th>\n",
              "      <th></th>\n",
              "    </tr>\n",
              "  </thead>\n",
              "  <tbody>\n",
              "    <tr>\n",
              "      <th>2021-03-12</th>\n",
              "      <td>3450.0</td>\n",
              "    </tr>\n",
              "    <tr>\n",
              "      <th>2021-03-15</th>\n",
              "      <td>3380.0</td>\n",
              "    </tr>\n",
              "    <tr>\n",
              "      <th>2021-03-16</th>\n",
              "      <td>3360.0</td>\n",
              "    </tr>\n",
              "    <tr>\n",
              "      <th>2021-03-17</th>\n",
              "      <td>3390.0</td>\n",
              "    </tr>\n",
              "    <tr>\n",
              "      <th>2021-03-18</th>\n",
              "      <td>3450.0</td>\n",
              "    </tr>\n",
              "    <tr>\n",
              "      <th>...</th>\n",
              "      <td>...</td>\n",
              "    </tr>\n",
              "    <tr>\n",
              "      <th>2022-08-26</th>\n",
              "      <td>4490.0</td>\n",
              "    </tr>\n",
              "    <tr>\n",
              "      <th>2022-08-29</th>\n",
              "      <td>4520.0</td>\n",
              "    </tr>\n",
              "    <tr>\n",
              "      <th>2022-08-30</th>\n",
              "      <td>4480.0</td>\n",
              "    </tr>\n",
              "    <tr>\n",
              "      <th>2022-08-31</th>\n",
              "      <td>4560.0</td>\n",
              "    </tr>\n",
              "    <tr>\n",
              "      <th>2022-09-01</th>\n",
              "      <td>4580.0</td>\n",
              "    </tr>\n",
              "  </tbody>\n",
              "</table>\n",
              "<p>360 rows × 1 columns</p>\n",
              "</div>\n",
              "      <button class=\"colab-df-convert\" onclick=\"convertToInteractive('df-2187c7e8-92a8-4b69-a6f9-0bff37f88f4a')\"\n",
              "              title=\"Convert this dataframe to an interactive table.\"\n",
              "              style=\"display:none;\">\n",
              "        \n",
              "  <svg xmlns=\"http://www.w3.org/2000/svg\" height=\"24px\"viewBox=\"0 0 24 24\"\n",
              "       width=\"24px\">\n",
              "    <path d=\"M0 0h24v24H0V0z\" fill=\"none\"/>\n",
              "    <path d=\"M18.56 5.44l.94 2.06.94-2.06 2.06-.94-2.06-.94-.94-2.06-.94 2.06-2.06.94zm-11 1L8.5 8.5l.94-2.06 2.06-.94-2.06-.94L8.5 2.5l-.94 2.06-2.06.94zm10 10l.94 2.06.94-2.06 2.06-.94-2.06-.94-.94-2.06-.94 2.06-2.06.94z\"/><path d=\"M17.41 7.96l-1.37-1.37c-.4-.4-.92-.59-1.43-.59-.52 0-1.04.2-1.43.59L10.3 9.45l-7.72 7.72c-.78.78-.78 2.05 0 2.83L4 21.41c.39.39.9.59 1.41.59.51 0 1.02-.2 1.41-.59l7.78-7.78 2.81-2.81c.8-.78.8-2.07 0-2.86zM5.41 20L4 18.59l7.72-7.72 1.47 1.35L5.41 20z\"/>\n",
              "  </svg>\n",
              "      </button>\n",
              "      \n",
              "  <style>\n",
              "    .colab-df-container {\n",
              "      display:flex;\n",
              "      flex-wrap:wrap;\n",
              "      gap: 12px;\n",
              "    }\n",
              "\n",
              "    .colab-df-convert {\n",
              "      background-color: #E8F0FE;\n",
              "      border: none;\n",
              "      border-radius: 50%;\n",
              "      cursor: pointer;\n",
              "      display: none;\n",
              "      fill: #1967D2;\n",
              "      height: 32px;\n",
              "      padding: 0 0 0 0;\n",
              "      width: 32px;\n",
              "    }\n",
              "\n",
              "    .colab-df-convert:hover {\n",
              "      background-color: #E2EBFA;\n",
              "      box-shadow: 0px 1px 2px rgba(60, 64, 67, 0.3), 0px 1px 3px 1px rgba(60, 64, 67, 0.15);\n",
              "      fill: #174EA6;\n",
              "    }\n",
              "\n",
              "    [theme=dark] .colab-df-convert {\n",
              "      background-color: #3B4455;\n",
              "      fill: #D2E3FC;\n",
              "    }\n",
              "\n",
              "    [theme=dark] .colab-df-convert:hover {\n",
              "      background-color: #434B5C;\n",
              "      box-shadow: 0px 1px 3px 1px rgba(0, 0, 0, 0.15);\n",
              "      filter: drop-shadow(0px 1px 2px rgba(0, 0, 0, 0.3));\n",
              "      fill: #FFFFFF;\n",
              "    }\n",
              "  </style>\n",
              "\n",
              "      <script>\n",
              "        const buttonEl =\n",
              "          document.querySelector('#df-2187c7e8-92a8-4b69-a6f9-0bff37f88f4a button.colab-df-convert');\n",
              "        buttonEl.style.display =\n",
              "          google.colab.kernel.accessAllowed ? 'block' : 'none';\n",
              "\n",
              "        async function convertToInteractive(key) {\n",
              "          const element = document.querySelector('#df-2187c7e8-92a8-4b69-a6f9-0bff37f88f4a');\n",
              "          const dataTable =\n",
              "            await google.colab.kernel.invokeFunction('convertToInteractive',\n",
              "                                                     [key], {});\n",
              "          if (!dataTable) return;\n",
              "\n",
              "          const docLinkHtml = 'Like what you see? Visit the ' +\n",
              "            '<a target=\"_blank\" href=https://colab.research.google.com/notebooks/data_table.ipynb>data table notebook</a>'\n",
              "            + ' to learn more about interactive tables.';\n",
              "          element.innerHTML = '';\n",
              "          dataTable['output_type'] = 'display_data';\n",
              "          await google.colab.output.renderOutput(dataTable, element);\n",
              "          const docLink = document.createElement('div');\n",
              "          docLink.innerHTML = docLinkHtml;\n",
              "          element.appendChild(docLink);\n",
              "        }\n",
              "      </script>\n",
              "    </div>\n",
              "  </div>\n",
              "  "
            ]
          },
          "metadata": {},
          "execution_count": 16
        }
      ]
    },
    {
      "cell_type": "markdown",
      "metadata": {
        "id": "P9LreDCYAZrC"
      },
      "source": [
        "# Train test split"
      ]
    },
    {
      "cell_type": "markdown",
      "metadata": {
        "id": "nE7Ca-k7-nv-"
      },
      "source": [
        "Selanjutnya melakukan data training dan testing pada data yang kita gunakan tlkm_log. Pada contoh ini kita gunakan 80% baris pertama sebagai data train dan 20% sisanya sebagai data test."
      ]
    },
    {
      "cell_type": "code",
      "execution_count": null,
      "metadata": {
        "id": "CfdKUJ-BOJ4j"
      },
      "outputs": [],
      "source": [
        "# Menentukan banyaknya data train yaitu sebesar 80% data\n",
        "train_size = int(len(tlkm_log) * 0.8)\n",
        "train = tlkm_log[:train_size]\n",
        "test = tlkm_log[train_size:].reset_index(drop=True)"
      ]
    },
    {
      "cell_type": "markdown",
      "metadata": {
        "id": "gBCjYHDnA0z1"
      },
      "source": [
        "# Data Training MinMaxScaler"
      ]
    },
    {
      "cell_type": "markdown",
      "metadata": {
        "id": "iqB4gPgu-6YC"
      },
      "source": [
        "Melakukan scaling pada data train dan test dari targetnya yaitu Close dan menampilkan variable Close setelah dilakukan scaling. Setelah dilakukan scaling terdapat penurunan pada data di tahun 2021 dan mengalami kenaikan pada tahun 2022."
      ]
    },
    {
      "cell_type": "code",
      "execution_count": null,
      "metadata": {
        "id": "G9KfHdWhqhCl",
        "colab": {
          "base_uri": "https://localhost:8080/",
          "height": 455
        },
        "outputId": "918d0b6e-333b-4aad-aff6-7406c7e39411"
      },
      "outputs": [
        {
          "output_type": "execute_result",
          "data": {
            "text/plain": [
              "             Close\n",
              "Date              \n",
              "2021-03-12  3450.0\n",
              "2021-03-15  3380.0\n",
              "2021-03-16  3360.0\n",
              "2021-03-17  3390.0\n",
              "2021-03-18  3450.0\n",
              "...            ...\n",
              "2022-05-12  4300.0\n",
              "2022-05-13  4260.0\n",
              "2022-05-17  4180.0\n",
              "2022-05-18  4250.0\n",
              "2022-05-19  4210.0\n",
              "\n",
              "[288 rows x 1 columns]"
            ],
            "text/html": [
              "\n",
              "  <div id=\"df-ea30350e-0775-42fb-9066-24396d623596\">\n",
              "    <div class=\"colab-df-container\">\n",
              "      <div>\n",
              "<style scoped>\n",
              "    .dataframe tbody tr th:only-of-type {\n",
              "        vertical-align: middle;\n",
              "    }\n",
              "\n",
              "    .dataframe tbody tr th {\n",
              "        vertical-align: top;\n",
              "    }\n",
              "\n",
              "    .dataframe thead th {\n",
              "        text-align: right;\n",
              "    }\n",
              "</style>\n",
              "<table border=\"1\" class=\"dataframe\">\n",
              "  <thead>\n",
              "    <tr style=\"text-align: right;\">\n",
              "      <th></th>\n",
              "      <th>Close</th>\n",
              "    </tr>\n",
              "    <tr>\n",
              "      <th>Date</th>\n",
              "      <th></th>\n",
              "    </tr>\n",
              "  </thead>\n",
              "  <tbody>\n",
              "    <tr>\n",
              "      <th>2021-03-12</th>\n",
              "      <td>3450.0</td>\n",
              "    </tr>\n",
              "    <tr>\n",
              "      <th>2021-03-15</th>\n",
              "      <td>3380.0</td>\n",
              "    </tr>\n",
              "    <tr>\n",
              "      <th>2021-03-16</th>\n",
              "      <td>3360.0</td>\n",
              "    </tr>\n",
              "    <tr>\n",
              "      <th>2021-03-17</th>\n",
              "      <td>3390.0</td>\n",
              "    </tr>\n",
              "    <tr>\n",
              "      <th>2021-03-18</th>\n",
              "      <td>3450.0</td>\n",
              "    </tr>\n",
              "    <tr>\n",
              "      <th>...</th>\n",
              "      <td>...</td>\n",
              "    </tr>\n",
              "    <tr>\n",
              "      <th>2022-05-12</th>\n",
              "      <td>4300.0</td>\n",
              "    </tr>\n",
              "    <tr>\n",
              "      <th>2022-05-13</th>\n",
              "      <td>4260.0</td>\n",
              "    </tr>\n",
              "    <tr>\n",
              "      <th>2022-05-17</th>\n",
              "      <td>4180.0</td>\n",
              "    </tr>\n",
              "    <tr>\n",
              "      <th>2022-05-18</th>\n",
              "      <td>4250.0</td>\n",
              "    </tr>\n",
              "    <tr>\n",
              "      <th>2022-05-19</th>\n",
              "      <td>4210.0</td>\n",
              "    </tr>\n",
              "  </tbody>\n",
              "</table>\n",
              "<p>288 rows × 1 columns</p>\n",
              "</div>\n",
              "      <button class=\"colab-df-convert\" onclick=\"convertToInteractive('df-ea30350e-0775-42fb-9066-24396d623596')\"\n",
              "              title=\"Convert this dataframe to an interactive table.\"\n",
              "              style=\"display:none;\">\n",
              "        \n",
              "  <svg xmlns=\"http://www.w3.org/2000/svg\" height=\"24px\"viewBox=\"0 0 24 24\"\n",
              "       width=\"24px\">\n",
              "    <path d=\"M0 0h24v24H0V0z\" fill=\"none\"/>\n",
              "    <path d=\"M18.56 5.44l.94 2.06.94-2.06 2.06-.94-2.06-.94-.94-2.06-.94 2.06-2.06.94zm-11 1L8.5 8.5l.94-2.06 2.06-.94-2.06-.94L8.5 2.5l-.94 2.06-2.06.94zm10 10l.94 2.06.94-2.06 2.06-.94-2.06-.94-.94-2.06-.94 2.06-2.06.94z\"/><path d=\"M17.41 7.96l-1.37-1.37c-.4-.4-.92-.59-1.43-.59-.52 0-1.04.2-1.43.59L10.3 9.45l-7.72 7.72c-.78.78-.78 2.05 0 2.83L4 21.41c.39.39.9.59 1.41.59.51 0 1.02-.2 1.41-.59l7.78-7.78 2.81-2.81c.8-.78.8-2.07 0-2.86zM5.41 20L4 18.59l7.72-7.72 1.47 1.35L5.41 20z\"/>\n",
              "  </svg>\n",
              "      </button>\n",
              "      \n",
              "  <style>\n",
              "    .colab-df-container {\n",
              "      display:flex;\n",
              "      flex-wrap:wrap;\n",
              "      gap: 12px;\n",
              "    }\n",
              "\n",
              "    .colab-df-convert {\n",
              "      background-color: #E8F0FE;\n",
              "      border: none;\n",
              "      border-radius: 50%;\n",
              "      cursor: pointer;\n",
              "      display: none;\n",
              "      fill: #1967D2;\n",
              "      height: 32px;\n",
              "      padding: 0 0 0 0;\n",
              "      width: 32px;\n",
              "    }\n",
              "\n",
              "    .colab-df-convert:hover {\n",
              "      background-color: #E2EBFA;\n",
              "      box-shadow: 0px 1px 2px rgba(60, 64, 67, 0.3), 0px 1px 3px 1px rgba(60, 64, 67, 0.15);\n",
              "      fill: #174EA6;\n",
              "    }\n",
              "\n",
              "    [theme=dark] .colab-df-convert {\n",
              "      background-color: #3B4455;\n",
              "      fill: #D2E3FC;\n",
              "    }\n",
              "\n",
              "    [theme=dark] .colab-df-convert:hover {\n",
              "      background-color: #434B5C;\n",
              "      box-shadow: 0px 1px 3px 1px rgba(0, 0, 0, 0.15);\n",
              "      filter: drop-shadow(0px 1px 2px rgba(0, 0, 0, 0.3));\n",
              "      fill: #FFFFFF;\n",
              "    }\n",
              "  </style>\n",
              "\n",
              "      <script>\n",
              "        const buttonEl =\n",
              "          document.querySelector('#df-ea30350e-0775-42fb-9066-24396d623596 button.colab-df-convert');\n",
              "        buttonEl.style.display =\n",
              "          google.colab.kernel.accessAllowed ? 'block' : 'none';\n",
              "\n",
              "        async function convertToInteractive(key) {\n",
              "          const element = document.querySelector('#df-ea30350e-0775-42fb-9066-24396d623596');\n",
              "          const dataTable =\n",
              "            await google.colab.kernel.invokeFunction('convertToInteractive',\n",
              "                                                     [key], {});\n",
              "          if (!dataTable) return;\n",
              "\n",
              "          const docLinkHtml = 'Like what you see? Visit the ' +\n",
              "            '<a target=\"_blank\" href=https://colab.research.google.com/notebooks/data_table.ipynb>data table notebook</a>'\n",
              "            + ' to learn more about interactive tables.';\n",
              "          element.innerHTML = '';\n",
              "          dataTable['output_type'] = 'display_data';\n",
              "          await google.colab.output.renderOutput(dataTable, element);\n",
              "          const docLink = document.createElement('div');\n",
              "          docLink.innerHTML = docLinkHtml;\n",
              "          element.appendChild(docLink);\n",
              "        }\n",
              "      </script>\n",
              "    </div>\n",
              "  </div>\n",
              "  "
            ]
          },
          "metadata": {},
          "execution_count": 18
        }
      ],
      "source": [
        "#Melakukan proses data training dan testing menggunakan MinMaxScaller\n",
        "from sklearn.preprocessing import MinMaxScaler\n",
        "scaler = MinMaxScaler()\n",
        "scaler.fit(train[['Close']])\n",
        "\n",
        "training_scaled = scaler.transform(train[['Close']])\n",
        "testing_scaled = scaler.transform(test[['Close']])\n",
        "train"
      ]
    },
    {
      "cell_type": "code",
      "source": [
        "#Menyiapkan data train sebelum dilakukan hypertunning pada Model\n",
        "X_train = []\n",
        "y_train = []\n",
        "for i in range(30, training_scaled.shape[0]):\n",
        "    X_train.append(training_scaled[i-30:i,0])\n",
        "    y_train.append(training_scaled[i,0])\n",
        "\n",
        "X_train, y_train = np.array(X_train), np.array(y_train)\n",
        "X_train = np.reshape(X_train, (X_train.shape[0],X_train.shape[1],1))"
      ],
      "metadata": {
        "id": "wL1nxp7ndKOf"
      },
      "execution_count": null,
      "outputs": []
    },
    {
      "cell_type": "markdown",
      "metadata": {
        "id": "krKCjlu-BCZO"
      },
      "source": [
        "# Create Model Parameters LSTM(Unit & Dropout)"
      ]
    },
    {
      "cell_type": "markdown",
      "metadata": {
        "id": "vPaKTE4QM-Db"
      },
      "source": [
        "Melakukan hypertuning pada parameter, dengan mencoba kombinasi nilai LSTM unitnya 50 dan peluang dropout 0,2 untuk mendapatkan hasil yang terbaik."
      ]
    },
    {
      "cell_type": "code",
      "execution_count": null,
      "metadata": {
        "id": "U8bMg1zzrTEc",
        "colab": {
          "base_uri": "https://localhost:8080/"
        },
        "outputId": "29a720b7-2814-4aab-b28a-de5e3226e90e"
      },
      "outputs": [
        {
          "output_type": "stream",
          "name": "stdout",
          "text": [
            "Model: \"sequential\"\n",
            "_________________________________________________________________\n",
            " Layer (type)                Output Shape              Param #   \n",
            "=================================================================\n",
            " lstm (LSTM)                 (None, 30, 50)            10400     \n",
            "                                                                 \n",
            " dropout (Dropout)           (None, 30, 50)            0         \n",
            "                                                                 \n",
            " lstm_1 (LSTM)               (None, 30, 50)            20200     \n",
            "                                                                 \n",
            " dropout_1 (Dropout)         (None, 30, 50)            0         \n",
            "                                                                 \n",
            " lstm_2 (LSTM)               (None, 30, 50)            20200     \n",
            "                                                                 \n",
            " dropout_2 (Dropout)         (None, 30, 50)            0         \n",
            "                                                                 \n",
            " lstm_3 (LSTM)               (None, 30, 50)            20200     \n",
            "                                                                 \n",
            " dropout_3 (Dropout)         (None, 30, 50)            0         \n",
            "                                                                 \n",
            " lstm_4 (LSTM)               (None, 50)                20200     \n",
            "                                                                 \n",
            " dropout_4 (Dropout)         (None, 50)                0         \n",
            "                                                                 \n",
            " dense (Dense)               (None, 1)                 51        \n",
            "                                                                 \n",
            "=================================================================\n",
            "Total params: 91,251\n",
            "Trainable params: 91,251\n",
            "Non-trainable params: 0\n",
            "_________________________________________________________________\n"
          ]
        }
      ],
      "source": [
        "#Arsitektur Model LSTM\n",
        "lstm_reg = Sequential()\n",
        "#Layer pertama Model LSTM\n",
        "lstm_reg.add(LSTM(units=50,return_sequences=True,input_shape=(X_train.shape[1],1)))\n",
        "lstm_reg.add(Dropout(0.2))\n",
        "#Layer kedua Model LSTM\n",
        "lstm_reg.add(LSTM(units=50,return_sequences=True))\n",
        "lstm_reg.add(Dropout(0.2))\n",
        "#Layer ketiga Model LSTM\n",
        "lstm_reg.add(LSTM(units=50,return_sequences=True))\n",
        "lstm_reg.add(Dropout(0.2))\n",
        "#Layer keempat Model LSTM\n",
        "lstm_reg.add(LSTM(units=50,return_sequences=True))\n",
        "lstm_reg.add(Dropout(0.2))\n",
        "#layer kelimat Model LSTM\n",
        "lstm_reg.add(LSTM(units=50))\n",
        "lstm_reg.add(Dropout(0.2))\n",
        "\n",
        "#Hasil layer Model LSTM ditentukan oleh ReLU\n",
        "lstm_reg.add(Dense(units=1, activation='relu'))\n",
        "\n",
        "#Hasil compile model\n",
        "lstm_reg.summary()"
      ]
    },
    {
      "cell_type": "markdown",
      "source": [
        "Mencari hasil terbaik untuk nilai loss pada Model LSTM dengan optimizer adam"
      ],
      "metadata": {
        "id": "r3G3QXz9gXBA"
      }
    },
    {
      "cell_type": "code",
      "source": [
        "#Compile model LSTM\n",
        "lstm_reg.compile(optimizer = 'adam', loss = 'mean_squared_error', metrics='mae')\n",
        "\n",
        "#Fitting model pada data train\n",
        "lstm_reg.fit(X_train,y_train,epochs=50,batch_size=32)"
      ],
      "metadata": {
        "colab": {
          "base_uri": "https://localhost:8080/"
        },
        "id": "dTZjYMa8DIhb",
        "outputId": "269e9fcf-5ac0-403b-cf22-98556adda8ea"
      },
      "execution_count": null,
      "outputs": [
        {
          "output_type": "stream",
          "name": "stdout",
          "text": [
            "Epoch 1/50\n",
            "9/9 [==============================] - 16s 94ms/step - loss: 0.1238 - mae: 0.2814\n",
            "Epoch 2/50\n",
            "9/9 [==============================] - 1s 84ms/step - loss: 0.0387 - mae: 0.1585\n",
            "Epoch 3/50\n",
            "9/9 [==============================] - 1s 103ms/step - loss: 0.0218 - mae: 0.1135\n",
            "Epoch 4/50\n",
            "9/9 [==============================] - 1s 99ms/step - loss: 0.0171 - mae: 0.1041\n",
            "Epoch 5/50\n",
            "9/9 [==============================] - 1s 83ms/step - loss: 0.0149 - mae: 0.0969\n",
            "Epoch 6/50\n",
            "9/9 [==============================] - 0s 51ms/step - loss: 0.0145 - mae: 0.0979\n",
            "Epoch 7/50\n",
            "9/9 [==============================] - 1s 56ms/step - loss: 0.0139 - mae: 0.0987\n",
            "Epoch 8/50\n",
            "9/9 [==============================] - 1s 59ms/step - loss: 0.0130 - mae: 0.0912\n",
            "Epoch 9/50\n",
            "9/9 [==============================] - 0s 54ms/step - loss: 0.0157 - mae: 0.1020\n",
            "Epoch 10/50\n",
            "9/9 [==============================] - 0s 51ms/step - loss: 0.0125 - mae: 0.0916\n",
            "Epoch 11/50\n",
            "9/9 [==============================] - 1s 56ms/step - loss: 0.0130 - mae: 0.0899\n",
            "Epoch 12/50\n",
            "9/9 [==============================] - 1s 57ms/step - loss: 0.0126 - mae: 0.0889\n",
            "Epoch 13/50\n",
            "9/9 [==============================] - 1s 59ms/step - loss: 0.0129 - mae: 0.0946\n",
            "Epoch 14/50\n",
            "9/9 [==============================] - 1s 58ms/step - loss: 0.0176 - mae: 0.1089\n",
            "Epoch 15/50\n",
            "9/9 [==============================] - 1s 58ms/step - loss: 0.0163 - mae: 0.1000\n",
            "Epoch 16/50\n",
            "9/9 [==============================] - 1s 59ms/step - loss: 0.0125 - mae: 0.0890\n",
            "Epoch 17/50\n",
            "9/9 [==============================] - 0s 54ms/step - loss: 0.0126 - mae: 0.0919\n",
            "Epoch 18/50\n",
            "9/9 [==============================] - 0s 47ms/step - loss: 0.0133 - mae: 0.0927\n",
            "Epoch 19/50\n",
            "9/9 [==============================] - 0s 53ms/step - loss: 0.0142 - mae: 0.0934\n",
            "Epoch 20/50\n",
            "9/9 [==============================] - 0s 55ms/step - loss: 0.0135 - mae: 0.0952\n",
            "Epoch 21/50\n",
            "9/9 [==============================] - 1s 58ms/step - loss: 0.0113 - mae: 0.0870\n",
            "Epoch 22/50\n",
            "9/9 [==============================] - 1s 58ms/step - loss: 0.0117 - mae: 0.0868\n",
            "Epoch 23/50\n",
            "9/9 [==============================] - 1s 59ms/step - loss: 0.0109 - mae: 0.0807\n",
            "Epoch 24/50\n",
            "9/9 [==============================] - 1s 56ms/step - loss: 0.0122 - mae: 0.0885\n",
            "Epoch 25/50\n",
            "9/9 [==============================] - 1s 60ms/step - loss: 0.0138 - mae: 0.0932\n",
            "Epoch 26/50\n",
            "9/9 [==============================] - 1s 58ms/step - loss: 0.0136 - mae: 0.0960\n",
            "Epoch 27/50\n",
            "9/9 [==============================] - 1s 60ms/step - loss: 0.0139 - mae: 0.0943\n",
            "Epoch 28/50\n",
            "9/9 [==============================] - 1s 60ms/step - loss: 0.0111 - mae: 0.0871\n",
            "Epoch 29/50\n",
            "9/9 [==============================] - 1s 57ms/step - loss: 0.0122 - mae: 0.0887\n",
            "Epoch 30/50\n",
            "9/9 [==============================] - 1s 57ms/step - loss: 0.0106 - mae: 0.0848\n",
            "Epoch 31/50\n",
            "9/9 [==============================] - 0s 55ms/step - loss: 0.0113 - mae: 0.0857\n",
            "Epoch 32/50\n",
            "9/9 [==============================] - 0s 50ms/step - loss: 0.0106 - mae: 0.0847\n",
            "Epoch 33/50\n",
            "9/9 [==============================] - 0s 56ms/step - loss: 0.0110 - mae: 0.0847\n",
            "Epoch 34/50\n",
            "9/9 [==============================] - 0s 54ms/step - loss: 0.0103 - mae: 0.0794\n",
            "Epoch 35/50\n",
            "9/9 [==============================] - 1s 56ms/step - loss: 0.0113 - mae: 0.0850\n",
            "Epoch 36/50\n",
            "9/9 [==============================] - 1s 56ms/step - loss: 0.0108 - mae: 0.0849\n",
            "Epoch 37/50\n",
            "9/9 [==============================] - 0s 51ms/step - loss: 0.0118 - mae: 0.0874\n",
            "Epoch 38/50\n",
            "9/9 [==============================] - 0s 52ms/step - loss: 0.0121 - mae: 0.0851\n",
            "Epoch 39/50\n",
            "9/9 [==============================] - 0s 53ms/step - loss: 0.0118 - mae: 0.0871\n",
            "Epoch 40/50\n",
            "9/9 [==============================] - 0s 52ms/step - loss: 0.0113 - mae: 0.0876\n",
            "Epoch 41/50\n",
            "9/9 [==============================] - 0s 50ms/step - loss: 0.0092 - mae: 0.0766\n",
            "Epoch 42/50\n",
            "9/9 [==============================] - 1s 55ms/step - loss: 0.0101 - mae: 0.0792\n",
            "Epoch 43/50\n",
            "9/9 [==============================] - 1s 55ms/step - loss: 0.0144 - mae: 0.0981\n",
            "Epoch 44/50\n",
            "9/9 [==============================] - 0s 50ms/step - loss: 0.0157 - mae: 0.1014\n",
            "Epoch 45/50\n",
            "9/9 [==============================] - 1s 57ms/step - loss: 0.0136 - mae: 0.0910\n",
            "Epoch 46/50\n",
            "9/9 [==============================] - 1s 75ms/step - loss: 0.0114 - mae: 0.0843\n",
            "Epoch 47/50\n",
            "9/9 [==============================] - 1s 62ms/step - loss: 0.0097 - mae: 0.0803\n",
            "Epoch 48/50\n",
            "9/9 [==============================] - 1s 56ms/step - loss: 0.0099 - mae: 0.0813\n",
            "Epoch 49/50\n",
            "9/9 [==============================] - 0s 50ms/step - loss: 0.0109 - mae: 0.0835\n",
            "Epoch 50/50\n",
            "9/9 [==============================] - 0s 52ms/step - loss: 0.0105 - mae: 0.0820\n"
          ]
        },
        {
          "output_type": "execute_result",
          "data": {
            "text/plain": [
              "<keras.callbacks.History at 0x7f142487a0d0>"
            ]
          },
          "metadata": {},
          "execution_count": 22
        }
      ]
    },
    {
      "cell_type": "code",
      "source": [
        "input = scaler.fit_transform(tlkm_log)\n",
        "input[-1,0]"
      ],
      "metadata": {
        "id": "Rz3mHSaWgRkm",
        "colab": {
          "base_uri": "https://localhost:8080/"
        },
        "outputId": "7a8acd43-130f-48bd-8bd3-5d4a4cd42a12"
      },
      "execution_count": null,
      "outputs": [
        {
          "output_type": "execute_result",
          "data": {
            "text/plain": [
              "0.8920454545454544"
            ]
          },
          "metadata": {},
          "execution_count": 23
        }
      ]
    },
    {
      "cell_type": "code",
      "source": [
        "#Menyiapkan data test untuk prediksi\n",
        "X_test = []\n",
        "y_test= []\n",
        "for i in range(30,input.shape[0]):\n",
        "    X_test.append(input[i-30:i,0])\n",
        "    y_test.append(input[i,0])S\n",
        "X_test,y_test = np.array(X_test),np.array(y_test)\n",
        "y_pred = lstm_reg.predict(X_test)\n",
        "y_pred[-1,0]"
      ],
      "metadata": {
        "id": "LB9vI2wMgrgn",
        "colab": {
          "base_uri": "https://localhost:8080/"
        },
        "outputId": "a781f847-11f7-4966-ae29-5cfe6bd4c9a4"
      },
      "execution_count": null,
      "outputs": [
        {
          "output_type": "execute_result",
          "data": {
            "text/plain": [
              "0.92402965"
            ]
          },
          "metadata": {},
          "execution_count": 24
        }
      ]
    },
    {
      "cell_type": "markdown",
      "source": [
        "Membuat variable dan fungsi Mean Square Error (MSE) menggunakan parameter test dan predicted"
      ],
      "metadata": {
        "id": "snmUNpsRgxnx"
      }
    },
    {
      "cell_type": "code",
      "source": [
        "#Membuat variable dan fungsi MSE\n",
        "def return_mse(test,predicted):\n",
        "    mse = mean_squared_error(test, predicted)\n",
        "    print(\"The Mean Squared Error = {}.\".format(mse))"
      ],
      "metadata": {
        "id": "9MHRWzQAHHbc"
      },
      "execution_count": null,
      "outputs": []
    },
    {
      "cell_type": "markdown",
      "source": [
        "Memvisualisasikan prediksi harga saham dari Model LSTM berdasarkan hasil data testing dan prediksi"
      ],
      "metadata": {
        "id": "LaCWpollhE_H"
      }
    },
    {
      "cell_type": "code",
      "source": [
        "plt.figure(figsize=(10,5))\n",
        "plt.plot(y_test,color=\"red\",label=\"Real TLKM Stock Price\")\n",
        "plt.plot(y_pred,color=\"blue\",label=\"Predicted TLKM Stock Price\")\n",
        "plt.title(\"TLKM Stock Price LSTM Prediction\")\n",
        "plt.xlabel(\"Time\")\n",
        "plt.ylabel(\"TLKM Stock Price\")\n",
        "plt.legend()\n",
        "plt.show()"
      ],
      "metadata": {
        "colab": {
          "base_uri": "https://localhost:8080/",
          "height": 350
        },
        "id": "sryBqgGQAeH6",
        "outputId": "298f15f6-1a7e-41af-da5e-02d9ba407c3d"
      },
      "execution_count": null,
      "outputs": [
        {
          "output_type": "display_data",
          "data": {
            "text/plain": [
              "<Figure size 720x360 with 1 Axes>"
            ],
            "image/png": "[encoded data removed]"
          },
          "metadata": {
            "needs_background": "light"
          }
        }
      ]
    },
    {
      "cell_type": "code",
      "source": [
        "# Menampilkan hasil perhitungan MSE Evaluasi Model LSTM\n",
        "return_mse(y_test,y_pred)"
      ],
      "metadata": {
        "colab": {
          "base_uri": "https://localhost:8080/"
        },
        "id": "_l8LAuq5G8PG",
        "outputId": "24c73e35-155a-459e-e070-c81b33471168"
      },
      "execution_count": null,
      "outputs": [
        {
          "output_type": "stream",
          "name": "stdout",
          "text": [
            "The Mean Squared Error = 0.011825426247456701.\n"
          ]
        }
      ]
    },
    {
      "cell_type": "markdown",
      "source": [
        "Berdasarkan perhitungan nilai MSE dari Model LSTM maka diperoleh hasil Mean Squearer Error = 0.01182"
      ],
      "metadata": {
        "id": "ndjTMOXDhdIN"
      }
    },
    {
      "cell_type": "markdown",
      "source": [
        "# Create Model Parameters GRU(Unit & Dropout)"
      ],
      "metadata": {
        "id": "8xZcM3Z_hxBs"
      }
    },
    {
      "cell_type": "markdown",
      "source": [
        "Melakukan hypertuning pada parameter, dengan mencoba kombinasi nilai GRU unitnya 50 dan peluang dropout 0,2 untuk mendapatkan hasil yang terbaik."
      ],
      "metadata": {
        "id": "L7X_5Jx4iJE-"
      }
    },
    {
      "cell_type": "code",
      "source": [
        "# GRU Arsitektur\n",
        "gru_reg = Sequential()\n",
        "# Layer pertama Model GRU\n",
        "gru_reg.add(GRU(units=50, return_sequences=True, input_shape=(X_train.shape[1],1)))\n",
        "gru_reg.add(Dropout(0.2))\n",
        "# Layer kedua Model GRU\n",
        "gru_reg.add(GRU(units=50, return_sequences=True))\n",
        "gru_reg.add(Dropout(0.2))\n",
        "# Layer ketiga Model GRU\n",
        "gru_reg.add(GRU(units=50, return_sequences=True))\n",
        "gru_reg.add(Dropout(0.2))\n",
        "# Layer keempat Model GRU\n",
        "gru_reg.add(GRU(units=50, return_sequences=True))\n",
        "gru_reg.add(Dropout(0.2))\n",
        "# Layer kelimat Model GRU\n",
        "gru_reg.add(GRU(units=50))\n",
        "gru_reg.add(Dropout(0.2))\n",
        "\n",
        "# Hasil layer Model LSTM ditentukan oleh Sigmoid\n",
        "gru_reg.add(Dense(units=1, activation='sigmoid'))\n",
        "\n",
        "#Hasil compile model\n",
        "gru_reg.summary()"
      ],
      "metadata": {
        "colab": {
          "base_uri": "https://localhost:8080/"
        },
        "id": "nRwV43yvIZH5",
        "outputId": "334f7aa1-16de-4d91-b46f-b6dc00f93c32"
      },
      "execution_count": null,
      "outputs": [
        {
          "output_type": "stream",
          "name": "stdout",
          "text": [
            "Model: \"sequential_1\"\n",
            "_________________________________________________________________\n",
            " Layer (type)                Output Shape              Param #   \n",
            "=================================================================\n",
            " gru (GRU)                   (None, 30, 50)            7950      \n",
            "                                                                 \n",
            " dropout_5 (Dropout)         (None, 30, 50)            0         \n",
            "                                                                 \n",
            " gru_1 (GRU)                 (None, 30, 50)            15300     \n",
            "                                                                 \n",
            " dropout_6 (Dropout)         (None, 30, 50)            0         \n",
            "                                                                 \n",
            " gru_2 (GRU)                 (None, 30, 50)            15300     \n",
            "                                                                 \n",
            " dropout_7 (Dropout)         (None, 30, 50)            0         \n",
            "                                                                 \n",
            " gru_3 (GRU)                 (None, 30, 50)            15300     \n",
            "                                                                 \n",
            " dropout_8 (Dropout)         (None, 30, 50)            0         \n",
            "                                                                 \n",
            " gru_4 (GRU)                 (None, 50)                15300     \n",
            "                                                                 \n",
            " dropout_9 (Dropout)         (None, 50)                0         \n",
            "                                                                 \n",
            " dense_1 (Dense)             (None, 1)                 51        \n",
            "                                                                 \n",
            "=================================================================\n",
            "Total params: 69,201\n",
            "Trainable params: 69,201\n",
            "Non-trainable params: 0\n",
            "_________________________________________________________________\n"
          ]
        }
      ]
    },
    {
      "cell_type": "markdown",
      "source": [
        "Mencari hasil terbaik untuk nilai loss pada Model GRU dengan optimizer SGD"
      ],
      "metadata": {
        "id": "hj4L7cZ-iU0_"
      }
    },
    {
      "cell_type": "code",
      "source": [
        "# Compile model GRU\n",
        "gru_reg.compile(optimizer=SGD(lr=0.01, decay=1e-7, momentum=0.9, nesterov=False),loss='mean_squared_error', metrics='mae')\n",
        "# Fitting model pada data train\n",
        "gru_reg.fit(X_train,y_train,epochs=50,batch_size=32)"
      ],
      "metadata": {
        "colab": {
          "base_uri": "https://localhost:8080/"
        },
        "id": "NaEZuEzIIrnp",
        "outputId": "1c6b96d4-4059-448a-b8ac-95612e0d197b"
      },
      "execution_count": null,
      "outputs": [
        {
          "output_type": "stream",
          "name": "stdout",
          "text": [
            "Epoch 1/50\n",
            "9/9 [==============================] - 8s 50ms/step - loss: 0.0797 - mae: 0.2539\n",
            "Epoch 2/50\n",
            "9/9 [==============================] - 0s 51ms/step - loss: 0.0779 - mae: 0.2510\n",
            "Epoch 3/50\n",
            "9/9 [==============================] - 0s 50ms/step - loss: 0.0761 - mae: 0.2479\n",
            "Epoch 4/50\n",
            "9/9 [==============================] - 0s 51ms/step - loss: 0.0732 - mae: 0.2426\n",
            "Epoch 5/50\n",
            "9/9 [==============================] - 0s 54ms/step - loss: 0.0706 - mae: 0.2376\n",
            "Epoch 6/50\n",
            "9/9 [==============================] - 1s 58ms/step - loss: 0.0679 - mae: 0.2325\n",
            "Epoch 7/50\n",
            "9/9 [==============================] - 1s 61ms/step - loss: 0.0643 - mae: 0.2262\n",
            "Epoch 8/50\n",
            "9/9 [==============================] - 1s 60ms/step - loss: 0.0600 - mae: 0.2190\n",
            "Epoch 9/50\n",
            "9/9 [==============================] - 1s 62ms/step - loss: 0.0549 - mae: 0.2084\n",
            "Epoch 10/50\n",
            "9/9 [==============================] - 1s 61ms/step - loss: 0.0478 - mae: 0.1942\n",
            "Epoch 11/50\n",
            "9/9 [==============================] - 1s 60ms/step - loss: 0.0381 - mae: 0.1714\n",
            "Epoch 12/50\n",
            "9/9 [==============================] - 1s 58ms/step - loss: 0.0286 - mae: 0.1471\n",
            "Epoch 13/50\n",
            "9/9 [==============================] - 1s 59ms/step - loss: 0.0200 - mae: 0.1196\n",
            "Epoch 14/50\n",
            "9/9 [==============================] - 0s 50ms/step - loss: 0.0136 - mae: 0.0957\n",
            "Epoch 15/50\n",
            "9/9 [==============================] - 0s 51ms/step - loss: 0.0085 - mae: 0.0748\n",
            "Epoch 16/50\n",
            "9/9 [==============================] - 1s 58ms/step - loss: 0.0067 - mae: 0.0660\n",
            "Epoch 17/50\n",
            "9/9 [==============================] - 1s 58ms/step - loss: 0.0063 - mae: 0.0622\n",
            "Epoch 18/50\n",
            "9/9 [==============================] - 0s 52ms/step - loss: 0.0062 - mae: 0.0633\n",
            "Epoch 19/50\n",
            "9/9 [==============================] - 0s 48ms/step - loss: 0.0062 - mae: 0.0639\n",
            "Epoch 20/50\n",
            "9/9 [==============================] - 0s 50ms/step - loss: 0.0060 - mae: 0.0621\n",
            "Epoch 21/50\n",
            "9/9 [==============================] - 0s 51ms/step - loss: 0.0067 - mae: 0.0670\n",
            "Epoch 22/50\n",
            "9/9 [==============================] - 0s 51ms/step - loss: 0.0059 - mae: 0.0630\n",
            "Epoch 23/50\n",
            "9/9 [==============================] - 1s 55ms/step - loss: 0.0065 - mae: 0.0651\n",
            "Epoch 24/50\n",
            "9/9 [==============================] - 1s 58ms/step - loss: 0.0061 - mae: 0.0619\n",
            "Epoch 25/50\n",
            "9/9 [==============================] - 1s 57ms/step - loss: 0.0064 - mae: 0.0661\n",
            "Epoch 26/50\n",
            "9/9 [==============================] - 1s 60ms/step - loss: 0.0059 - mae: 0.0631\n",
            "Epoch 27/50\n",
            "9/9 [==============================] - 1s 56ms/step - loss: 0.0066 - mae: 0.0648\n",
            "Epoch 28/50\n",
            "9/9 [==============================] - 1s 57ms/step - loss: 0.0058 - mae: 0.0617\n",
            "Epoch 29/50\n",
            "9/9 [==============================] - 0s 52ms/step - loss: 0.0061 - mae: 0.0640\n",
            "Epoch 30/50\n",
            "9/9 [==============================] - 0s 50ms/step - loss: 0.0059 - mae: 0.0617\n",
            "Epoch 31/50\n",
            "9/9 [==============================] - 0s 52ms/step - loss: 0.0066 - mae: 0.0664\n",
            "Epoch 32/50\n",
            "9/9 [==============================] - 0s 51ms/step - loss: 0.0057 - mae: 0.0613\n",
            "Epoch 33/50\n",
            "9/9 [==============================] - 1s 59ms/step - loss: 0.0060 - mae: 0.0629\n",
            "Epoch 34/50\n",
            "9/9 [==============================] - 1s 56ms/step - loss: 0.0059 - mae: 0.0624\n",
            "Epoch 35/50\n",
            "9/9 [==============================] - 0s 50ms/step - loss: 0.0061 - mae: 0.0634\n",
            "Epoch 36/50\n",
            "9/9 [==============================] - 0s 52ms/step - loss: 0.0064 - mae: 0.0663\n",
            "Epoch 37/50\n",
            "9/9 [==============================] - 0s 53ms/step - loss: 0.0065 - mae: 0.0651\n",
            "Epoch 38/50\n",
            "9/9 [==============================] - 0s 48ms/step - loss: 0.0059 - mae: 0.0626\n",
            "Epoch 39/50\n",
            "9/9 [==============================] - 0s 49ms/step - loss: 0.0066 - mae: 0.0668\n",
            "Epoch 40/50\n",
            "9/9 [==============================] - 0s 50ms/step - loss: 0.0061 - mae: 0.0629\n",
            "Epoch 41/50\n",
            "9/9 [==============================] - 0s 49ms/step - loss: 0.0058 - mae: 0.0602\n",
            "Epoch 42/50\n",
            "9/9 [==============================] - 0s 51ms/step - loss: 0.0060 - mae: 0.0627\n",
            "Epoch 43/50\n",
            "9/9 [==============================] - 0s 51ms/step - loss: 0.0059 - mae: 0.0620\n",
            "Epoch 44/50\n",
            "9/9 [==============================] - 0s 49ms/step - loss: 0.0067 - mae: 0.0663\n",
            "Epoch 45/50\n",
            "9/9 [==============================] - 0s 51ms/step - loss: 0.0060 - mae: 0.0621\n",
            "Epoch 46/50\n",
            "9/9 [==============================] - 1s 59ms/step - loss: 0.0061 - mae: 0.0625\n",
            "Epoch 47/50\n",
            "9/9 [==============================] - 1s 59ms/step - loss: 0.0064 - mae: 0.0643\n",
            "Epoch 48/50\n",
            "9/9 [==============================] - 0s 50ms/step - loss: 0.0063 - mae: 0.0650\n",
            "Epoch 49/50\n",
            "9/9 [==============================] - 0s 51ms/step - loss: 0.0060 - mae: 0.0614\n",
            "Epoch 50/50\n",
            "9/9 [==============================] - 0s 53ms/step - loss: 0.0062 - mae: 0.0642\n"
          ]
        },
        {
          "output_type": "execute_result",
          "data": {
            "text/plain": [
              "<keras.callbacks.History at 0x7f14240a7b10>"
            ]
          },
          "metadata": {},
          "execution_count": 29
        }
      ]
    },
    {
      "cell_type": "code",
      "source": [
        "#Menyiapkan data test untuk prediksi\n",
        "X_test = []\n",
        "y_test= []\n",
        "for i in range(30,input.shape[0]):\n",
        "    X_test.append(input[i-30:i,0])\n",
        "    y_test.append(input[i,0])\n",
        "X_test,y_test = np.array(X_test),np.array(y_test)\n",
        "y_pred = gru_reg.predict(X_test)\n",
        "y_pred[-1,0]"
      ],
      "metadata": {
        "colab": {
          "base_uri": "https://localhost:8080/"
        },
        "id": "8ceOI_7GJnNE",
        "outputId": "e40f8c38-4f44-4fb5-ccd5-dc610fca7b80"
      },
      "execution_count": null,
      "outputs": [
        {
          "output_type": "execute_result",
          "data": {
            "text/plain": [
              "0.8644461"
            ]
          },
          "metadata": {},
          "execution_count": 30
        }
      ]
    },
    {
      "cell_type": "markdown",
      "source": [
        "Memvisualisasikan prediksi harga saham dari Model GRU berdasarkan hasil data testing dan prediksi"
      ],
      "metadata": {
        "id": "LoAjfvlvifVq"
      }
    },
    {
      "cell_type": "code",
      "source": [
        "plt.figure(figsize=(10,5))\n",
        "plt.plot(y_test,color=\"red\",label=\"Real TLKM Stock Price\")\n",
        "plt.plot(y_pred,color=\"blue\",label=\"Predicted TLKM Stock Price\")\n",
        "plt.title(\"TLKM Stock Price GRU Prediction\")\n",
        "plt.xlabel(\"Time\")\n",
        "plt.ylabel(\"TLKM Stock Price\")\n",
        "plt.legend()\n",
        "plt.show()"
      ],
      "metadata": {
        "colab": {
          "base_uri": "https://localhost:8080/",
          "height": 350
        },
        "id": "3e98QKE9KCsO",
        "outputId": "70541088-68ba-498b-93c8-aa0cf152ea1a"
      },
      "execution_count": null,
      "outputs": [
        {
          "output_type": "display_data",
          "data": {
            "text/plain": [
              "<Figure size 720x360 with 1 Axes>"
            ],
            "image/png": "[encoded data removed]"
          },
          "metadata": {
            "needs_background": "light"
          }
        }
      ]
    },
    {
      "cell_type": "code",
      "source": [
        "# Menampilkan hasil perhitungan MSE Evaluasi Model GRU\n",
        "return_mse(y_test,y_pred)"
      ],
      "metadata": {
        "colab": {
          "base_uri": "https://localhost:8080/"
        },
        "id": "5BijLTTJMKCe",
        "outputId": "20aa8339-0e3b-4aa8-e4b1-1dd2da24893b"
      },
      "execution_count": null,
      "outputs": [
        {
          "output_type": "stream",
          "name": "stdout",
          "text": [
            "The Mean Squared Error = 0.005888035060882174.\n"
          ]
        }
      ]
    },
    {
      "cell_type": "markdown",
      "source": [
        "Berdasarkan perhitungan nilai MSE dari Model GRU maka diperoleh hasil Mean Squearer Error = 0.0058"
      ],
      "metadata": {
        "id": "SSZ9FOhSinVw"
      }
    },
    {
      "cell_type": "markdown",
      "source": [
        "# **Kesimpulan**"
      ],
      "metadata": {
        "id": "5cL7HfIxt4pe"
      }
    },
    {
      "cell_type": "markdown",
      "source": [
        "* Prediksi  harga  saham memakai data Close sebagai fiture sesuai di data 2021-2022 dengan menerapkan kinerja model, yaitu melakukan hypertunning pada model LSTM dan GRU pada unit: 50 dan dropout: 0.2 berdasarkan 5 layer dan output layer dengan activation: ReLU(LSTM) dan Sigmoid(GRU) serta compiling menggnakan optimizer: adam(LSTM), SGD(GRU), loss: mean_squared_errror dan melakukan fitting pada model dari data train, epoch: 50, dan batch size: 32 yang digunakan.\n",
        "\n",
        "* Hasil yang  terbaik  prediksi  harga  saham dari Model LSTM didapat dengan perhitungan Mean Squered Error memperoleh hasil MSE: 0.0118. Sedangkan perhitungan Model GRU dengan Mean Squered Error memperoleh hasil MSE: 0.0058. Perhitungan nilai MSE yang rendah atau MSE mendekati nol menunjukkan bahwa hasil prediksi sesuai dengan data aktual. \n",
        "\n",
        "* Dengan  demikian dapat  disimpulkan bahwa penerapan model GRU lebih baik dibandingkan dengan model LSTM dalam memprediksi harga saham TLKM, mampu menanggulangi  ketergantungan  jangka \n",
        "panjang  dan  mampu  memprediksi  harga \n",
        "saham dengan hasil yang akurat."
      ],
      "metadata": {
        "id": "kQa7lNqoMOWh"
      }
    }
  ],
  "metadata": {
    "colab": {
      "collapsed_sections": [],
      "provenance": []
    },
    "gpuClass": "standard",
    "kernelspec": {
      "display_name": "Python 3",
      "name": "python3"
    },
    "language_info": {
      "name": "python"
    },
    "accelerator": "GPU"
  },
  "nbformat": 4,
  "nbformat_minor": 0
}